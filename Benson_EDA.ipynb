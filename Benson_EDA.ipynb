{
 "metadata": {
  "name": "",
  "signature": "sha256:a997dc560e96d596f4c358ebc70518e8a705bf8f6dd36c1ee5047706d020e528"
 },
 "nbformat": 3,
 "nbformat_minor": 0,
 "worksheets": [
  {
   "cells": [
    {
     "cell_type": "markdown",
     "metadata": {},
     "source": [
      "## Download the data"
     ]
    },
    {
     "cell_type": "code",
     "collapsed": false,
     "input": [
      "%matplotlib inline\n",
      "import mta\n",
      "\n",
      "mta.get_turnstile_data(num_files=9,\n",
      "                       data_url=\"http://web.mta.info/developers/turnstile.html\",\n",
      "                       destination='./data/',\n",
      "                       start_from_id = 130105)\n"
     ],
     "language": "python",
     "metadata": {},
     "outputs": []
    },
    {
     "cell_type": "markdown",
     "metadata": {},
     "source": [
      "## Get the data out of the csvs"
     ]
    },
    {
     "cell_type": "code",
     "collapsed": true,
     "input": [
      "filenames = mta.get_glob()\n",
      "ts_data = mta.extract_turnstile_data_from_csvs(filenames)\n",
      "print len(ts_data)"
     ],
     "language": "python",
     "metadata": {},
     "outputs": []
    },
    {
     "cell_type": "markdown",
     "metadata": {},
     "source": [
      "##Get turnstile time series"
     ]
    },
    {
     "cell_type": "code",
     "collapsed": false,
     "input": [
      " turnstile_timeseries = mta.get_turnstile_timeseries(ts_data)"
     ],
     "language": "python",
     "metadata": {},
     "outputs": []
    },
    {
     "cell_type": "markdown",
     "metadata": {},
     "source": [
      "##Collapse turnstiles to booth-remotes"
     ]
    },
    {
     "cell_type": "code",
     "collapsed": false,
     "input": [
      "# collapse the data to booth-remotes\n",
      "#[takes a minute but not as long as the day count extraction]\n",
      "boothremote_timeseries = mta.collapse_data_to_booth_remote(turnstile_timeseries)"
     ],
     "language": "python",
     "metadata": {},
     "outputs": []
    },
    {
     "cell_type": "code",
     "collapsed": false,
     "input": [
      "# how many boothremotes are there?\n",
      "print 'number of boothremotes: ',len(boothremote_timeseries) \n",
      "\n",
      "# what does ONE boothremote look like?\n",
      "br_id, br_counts = boothremote_timeseries.iteritems().next()\n",
      "print 'br id of first booth remote: ',br_id\n",
      "print 'daily counts:'\n",
      "from pprint import pprint\n",
      "pprint(br_counts)"
     ],
     "language": "python",
     "metadata": {},
     "outputs": []
    },
    {
     "cell_type": "markdown",
     "metadata": {},
     "source": [
      "#PLOT"
     ]
    },
    {
     "cell_type": "code",
     "collapsed": false,
     "input": [
      "import matplotlib.pyplot as plt\n",
      "# plot the turnstile entry counts per day for one boothremote\n",
      "dates,counts = mta.dates_and_counts(br_counts)\n",
      "f = plt.figure(figsize=(10,3))\n",
      "p = plt.plot(dates,counts)"
     ],
     "language": "python",
     "metadata": {},
     "outputs": []
    },
    {
     "cell_type": "code",
     "collapsed": false,
     "input": [
      "import numpy as np\n",
      "\n",
      "counts_by_week = mta.reshape_flat_counts_to_weekly(counts)\n",
      "#print counts_by_week\n",
      "\n",
      "for week in counts_by_week:\n",
      "    plt.plot(week)\n",
      "    \n",
      "xl = plt.xlabel('Day of the week')\n",
      "yl = plt.ylabel('Number of turnstile entries')\n",
      "xt = plt.xticks(np.arange(7),['S','S','M','T','W','R','F'])"
     ],
     "language": "python",
     "metadata": {},
     "outputs": []
    },
    {
     "cell_type": "markdown",
     "metadata": {},
     "source": [
      "###Function for rainbow weekly ridership curves"
     ]
    },
    {
     "cell_type": "code",
     "collapsed": false,
     "input": [
      "# let's make a function that does everything we just did to make this \"rainbow line\" plot\n",
      "# try it out on a random boothremote\n",
      "import random\n",
      "br = random.sample(boothremote_timeseries.items(),1)[0]\n",
      "\n",
      "# what station is that anyway?\n",
      "# make the station key\n",
      "station_key = mta.create_booth_remote_station_key('data/turnstile_key.csv')\n",
      "#print station_key[br_id]\n",
      "\n",
      "mta.plot_weeks(br,station_key[br[0]])"
     ],
     "language": "python",
     "metadata": {},
     "outputs": []
    },
    {
     "cell_type": "code",
     "collapsed": false,
     "input": [
      "# make a function that does all that stuff up there and do it on a random station\n",
      "import random\n",
      "reload(mta)\n",
      "\n",
      "#sta = ('R202','R042')\n",
      "mta.plot_timeseries_and_weeklies(mta.get_a_random_boothremote(boothremote_timeseries),station_key)\n",
      "#plot_timeseries_and_weeklies((sta,boothremotes[sta]))\n",
      "#pprint(boothremotes[sta])"
     ],
     "language": "python",
     "metadata": {},
     "outputs": []
    },
    {
     "cell_type": "code",
     "collapsed": false,
     "input": [
      "# let's take the rainbow plot and turn it into averages with error bars\n",
      "\n",
      "# boothremotes weekly\n",
      "br = mta.get_a_random_boothremote(boothremote_timeseries)\n",
      "station_name = station_key[br[0]]\n",
      "print br[0], station_name \n",
      "\n",
      "weekly = mta.reshape_flat_counts_to_weekly([c for d,c in br[1]])\n",
      "print weekly\n",
      "\n",
      "# numpy arrays are awesome! by using the axis parameter you can find the mean of all columns at once.\n",
      "import numpy as np\n",
      "print np.mean(weekly,0).astype(int)\n",
      "print np.std(weekly,0).astype(int)"
     ],
     "language": "python",
     "metadata": {},
     "outputs": []
    },
    {
     "cell_type": "code",
     "collapsed": false,
     "input": [
      "#so let's make a plot of the means \n",
      "from scipy import stats\n",
      "err = stats.sem(weekly)\n",
      "#print err\n",
      "\n",
      "f=plt.figure(figsize=(8,3))\n",
      "plt.errorbar(np.arange(7),np.mean(weekly,0),yerr=err)\n",
      "#plt.errorbar(np.arange(7),np.mean(weekly,0),yerr=np.std(weekly,0))\n",
      "#a = plt.gca()\n",
      "xl = plt.xlim([-1,7])\n",
      "xt = plt.xticks(np.arange(8),['S','S','M','T','W','R','F',''])\n",
      "tt = plt.title(station_name)"
     ],
     "language": "python",
     "metadata": {},
     "outputs": []
    },
    {
     "cell_type": "code",
     "collapsed": false,
     "input": [
      "# and let's turn this into a function\n",
      "\n",
      "def plot_avg_weeklies_with_err_bars(br=None):\n",
      "    if not br: \n",
      "        br=mta.get_a_random_boothremote(boothremote_timeseries)\n",
      "\n",
      "    weekly = mta.reshape_flat_counts_to_weekly([c for d,c in br[1]])\n",
      "    err = stats.sem(weekly)\n",
      "    f=plt.figure(figsize=(8,3))\n",
      "    plt.errorbar(np.arange(7),np.mean(weekly,0),yerr=err)\n",
      "    xl = plt.xlim([-1,7])\n",
      "    xt = plt.xticks(np.arange(8),['S','S','M','T','W','R','F',''])\n",
      "    tt = plt.title(station_key[br[0]])\n",
      "    return \n",
      "\n",
      "#test it\n",
      "plot_avg_weeklies_with_err_bars()"
     ],
     "language": "python",
     "metadata": {},
     "outputs": []
    },
    {
     "cell_type": "code",
     "collapsed": false,
     "input": [
      "# so there is more than one booth remote per station. Let's see what we can do about that\n",
      "\n",
      "# we have the station key but it goes the wrong way. let's change it around so that we are indexing on the station name\n",
      "from collections import defaultdict\n",
      "\n",
      "station_dict = defaultdict(list)\n",
      "for boothremote,station in station_key.items():\n",
      "    station_dict[station].append(boothremote)\n",
      "    \n",
      "#pprint(dict(station_dict))\n",
      "\n",
      "#let's get a random station\n",
      "def get_a_random_station():\n",
      "    station = random.sample(station_dict,1)[0]\n",
      "    return station\n",
      "print station, station_dict[station]\n",
      "\n",
      "\n",
      "#'86 ST' is a good one with lots of booth remotes\n"
     ],
     "language": "python",
     "metadata": {},
     "outputs": []
    },
    {
     "cell_type": "code",
     "collapsed": false,
     "input": [],
     "language": "python",
     "metadata": {},
     "outputs": []
    },
    {
     "cell_type": "code",
     "collapsed": false,
     "input": [],
     "language": "python",
     "metadata": {},
     "outputs": []
    },
    {
     "cell_type": "code",
     "collapsed": false,
     "input": [
      "# and let's alter our function from above to plot all of the booth remotes for a station\n",
      "def plot_all_brs_for_station(station=None):\n",
      "    if not station: \n",
      "        station=get_a_random_station()\n",
      "    f=plt.figure(figsize=(8,3))\n",
      "    \n",
      "    for boothremote in station_dict[station]:\n",
      "        br = boothremote_timeseries[boothremote]\n",
      "        weekly = mta.reshape_flat_counts_to_weekly([c for d,c in br])\n",
      "        #print boothremote\n",
      "        #print weekly\n",
      "        plt.errorbar(np.arange(7),np.mean(weekly,0),yerr=err,label=boothremote)\n",
      "        \n",
      "    xl = plt.xlim([-1,7])\n",
      "    xt = plt.xticks(np.arange(8),['S','S','M','T','W','R','F',''])\n",
      "    tt = plt.title(station)\n",
      "    plt.legend(bbox_to_anchor=(1.35,1))\n",
      "    #lg = plt.figlegend(f,label=station_dict[station],loc=3)\n",
      "    return \n",
      "\n",
      "plot_all_brs_for_station()\n",
      "#plot_all_brs_for_station(station='BOWLING GREEN')\n"
     ],
     "language": "python",
     "metadata": {},
     "outputs": []
    },
    {
     "cell_type": "code",
     "collapsed": false,
     "input": [
      "stations = {}\n",
      "for station,br_names in station_dict.items():\n",
      "    total_ridership = 0\n",
      "    daily_totals = np.array([0,0,0,0,0,0,0])\n",
      "    for br_name in br_names: \n",
      "        br = boothremote_timeseries[br_name]\n",
      "        weekly = mta.reshape_flat_counts_to_weekly([c for d,c in br])\n",
      "        weekly_sums = np.sum(weekly,0)\n",
      "        daily_totals = daily_totals+weekly_sums\n",
      "        total_ridership += np.sum(weekly_sums)\n",
      "    stations[station]={\n",
      "    'daily_totals':daily_totals,\n",
      "    'total_ridership':total_ridership}\n",
      "    \n",
      "\n",
      "        "
     ],
     "language": "python",
     "metadata": {},
     "outputs": []
    },
    {
     "cell_type": "code",
     "collapsed": false,
     "input": [
      "total_ridership = []\n",
      "for station,br_names in station_dict.items():\n",
      "    total_ridership.append((sum([sum([c for d,c in boothremote_timeseries[br_name]]) for br_name in br_names]),station))\n",
      "    \n",
      "#average_weekly_ridership = []\n",
      "#for station,br_names in station_dict.items()[:5]:\n",
      "    #rect= [[c for d,c in boothremote_timeseries[br_name]] for br_name in br_names]\n",
      "    #print len(br_names)\n",
      "    #print rect\n",
      "\n",
      "        \n"
     ],
     "language": "python",
     "metadata": {},
     "outputs": []
    },
    {
     "cell_type": "code",
     "collapsed": false,
     "input": [
      "pprint(list(reversed(sorted(total_ridership))))"
     ],
     "language": "python",
     "metadata": {},
     "outputs": []
    },
    {
     "cell_type": "code",
     "collapsed": false,
     "input": [
      "station_totals = [a for (a,b) in total_ridership]\n",
      "#print station_totals\n",
      "h = plt.hist(station_totals,50)"
     ],
     "language": "python",
     "metadata": {},
     "outputs": []
    }
   ],
   "metadata": {}
  }
 ]
}
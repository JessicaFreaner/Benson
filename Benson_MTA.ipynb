{
 "metadata": {
  "name": "",
  "signature": "sha256:9314b21e39b7d684090df781cede4af9eb2c092ff01378e54c5de6812dd32f19"
 },
 "nbformat": 3,
 "nbformat_minor": 0,
 "worksheets": [
  {
   "cells": [
    {
     "cell_type": "heading",
     "level": 1,
     "metadata": {},
     "source": [
      "Challenge 1\n"
     ]
    },
    {
     "cell_type": "code",
     "collapsed": false,
     "input": [
      "# wget to retrieve MTA tunrstile info\n",
      "# Jan, 10 , 2015\n",
      "!wget http://web.mta.info/developers/data/nyct/turnstile/turnstile_150110.txt\n",
      "# Jan, 3, 2015\n",
      "!wget http://web.mta.info/developers/data/nyct/turnstile/turnstile_150103.txt\n",
      "# Dec, 27, 2014\n",
      "!wget http://web.mta.info/developers/data/nyct/turnstile/turnstile_141227.txt\n",
      "# Dec, 20, 2014\n",
      "!wget http://web.mta.info/developers/data/nyct/turnstile/turnstile_141220.txt\n",
      "# Dec, 13, 2014\n",
      "!wget http://web.mta.info/developers/data/nyct/turnstile/turnstile_141213.txt"
     ],
     "language": "python",
     "metadata": {},
     "outputs": [
      {
       "output_type": "stream",
       "stream": "stdout",
       "text": [
        "--2015-01-13 10:32:39--  http://web.mta.info/developers/data/nyct/turnstile/turnstile_150110.txt\r\n",
        "Resolving web.mta.info... 184.26.44.96, 184.26.44.98, 184.26.44.96, ...\r\n",
        "Connecting to web.mta.info|184.26.44.96|:80... connected.\r\n",
        "HTTP request sent, awaiting response... "
       ]
      },
      {
       "output_type": "stream",
       "stream": "stdout",
       "text": [
        "200 OK\r\n",
        "Length: unspecified [text/plain]\r\n",
        "Saving to: 'turnstile_150110.txt.1'\r\n",
        "\r\n",
        "\r",
        "turnstile_150110.tx     [<=>                   ]       0  --.-KB/s             "
       ]
      },
      {
       "output_type": "stream",
       "stream": "stdout",
       "text": [
        "\r",
        "urnstile_150110.txt     [ <=>                  ] 701.86K  3.43MB/s             "
       ]
      },
      {
       "output_type": "stream",
       "stream": "stdout",
       "text": [
        "\r",
        "rnstile_150110.txt.     [  <=>                 ]   1.29M  3.18MB/s             "
       ]
      },
      {
       "output_type": "stream",
       "stream": "stdout",
       "text": [
        "\r",
        "turnstile_150110.tx     [   <=>                ]   2.27M  3.74MB/s             "
       ]
      },
      {
       "output_type": "stream",
       "stream": "stdout",
       "text": [
        "\r",
        "urnstile_150110.txt     [    <=>               ]   3.18M  3.92MB/s             "
       ]
      },
      {
       "output_type": "stream",
       "stream": "stdout",
       "text": [
        "\r",
        "rnstile_150110.txt.     [     <=>              ]   3.69M  3.65MB/s             "
       ]
      },
      {
       "output_type": "stream",
       "stream": "stdout",
       "text": [
        "\r",
        "turnstile_150110.tx     [      <=>             ]   4.27M  3.52MB/s             "
       ]
      },
      {
       "output_type": "stream",
       "stream": "stdout",
       "text": [
        "\r",
        "urnstile_150110.txt     [       <=>            ]   4.93M  3.49MB/s             "
       ]
      },
      {
       "output_type": "stream",
       "stream": "stdout",
       "text": [
        "\r",
        "rnstile_150110.txt.     [        <=>           ]   5.44M  3.37MB/s             "
       ]
      },
      {
       "output_type": "stream",
       "stream": "stdout",
       "text": [
        "\r",
        "turnstile_150110.tx     [         <=>          ]   6.04M  3.32MB/s             "
       ]
      },
      {
       "output_type": "stream",
       "stream": "stdout",
       "text": [
        "\r",
        "urnstile_150110.txt     [          <=>         ]   6.79M  3.33MB/s             "
       ]
      },
      {
       "output_type": "stream",
       "stream": "stdout",
       "text": [
        "\r",
        "rnstile_150110.txt.     [           <=>        ]   7.41M  3.31MB/s             "
       ]
      },
      {
       "output_type": "stream",
       "stream": "stdout",
       "text": [
        "\r",
        "turnstile_150110.tx     [            <=>       ]   7.90M  3.21MB/s             "
       ]
      },
      {
       "output_type": "stream",
       "stream": "stdout",
       "text": [
        "\r",
        "urnstile_150110.txt     [             <=>      ]   8.23M  3.09MB/s             "
       ]
      },
      {
       "output_type": "stream",
       "stream": "stdout",
       "text": [
        "\r",
        "rnstile_150110.txt.     [              <=>     ]   9.10M  3.17MB/s             "
       ]
      },
      {
       "output_type": "stream",
       "stream": "stdout",
       "text": [
        "\r",
        "turnstile_150110.tx     [               <=>    ]   9.32M  3.03MB/s             "
       ]
      },
      {
       "output_type": "stream",
       "stream": "stdout",
       "text": [
        "\r",
        "urnstile_150110.txt     [                <=>   ]   9.55M  2.88MB/s             "
       ]
      },
      {
       "output_type": "stream",
       "stream": "stdout",
       "text": [
        "\r",
        "rnstile_150110.txt.     [                 <=>  ]  10.32M  2.90MB/s             "
       ]
      },
      {
       "output_type": "stream",
       "stream": "stdout",
       "text": [
        "\r",
        "turnstile_150110.tx     [                  <=> ]  11.17M  2.84MB/s             "
       ]
      },
      {
       "output_type": "stream",
       "stream": "stdout",
       "text": [
        "\r",
        "urnstile_150110.txt     [                   <=>]  11.93M  2.82MB/s             "
       ]
      },
      {
       "output_type": "stream",
       "stream": "stdout",
       "text": [
        "\r",
        "rnstile_150110.txt.     [                  <=> ]  12.43M  2.82MB/s             "
       ]
      },
      {
       "output_type": "stream",
       "stream": "stdout",
       "text": [
        "\r",
        "turnstile_150110.tx     [                 <=>  ]  13.17M  2.75MB/s             "
       ]
      },
      {
       "output_type": "stream",
       "stream": "stdout",
       "text": [
        "\r",
        "urnstile_150110.txt     [                <=>   ]  13.25M  2.57MB/s             "
       ]
      },
      {
       "output_type": "stream",
       "stream": "stdout",
       "text": [
        "\r",
        "rnstile_150110.txt.     [               <=>    ]  13.29M  2.39MB/s             "
       ]
      },
      {
       "output_type": "stream",
       "stream": "stdout",
       "text": [
        "\r",
        "turnstile_150110.tx     [              <=>     ]  13.33M  2.18MB/s             "
       ]
      },
      {
       "output_type": "stream",
       "stream": "stdout",
       "text": [
        "\r",
        "urnstile_150110.txt     [             <=>      ]  13.63M  2.07MB/s             "
       ]
      },
      {
       "output_type": "stream",
       "stream": "stdout",
       "text": [
        "\r",
        "rnstile_150110.txt.     [            <=>       ]  14.21M  1.99MB/s             "
       ]
      },
      {
       "output_type": "stream",
       "stream": "stdout",
       "text": [
        "\r",
        "turnstile_150110.tx     [           <=>        ]  14.72M  2.07MB/s             "
       ]
      },
      {
       "output_type": "stream",
       "stream": "stdout",
       "text": [
        "\r",
        "urnstile_150110.txt     [          <=>         ]  15.23M  2.14MB/s             "
       ]
      },
      {
       "output_type": "stream",
       "stream": "stdout",
       "text": [
        "\r",
        "rnstile_150110.txt.     [         <=>          ]  16.09M  2.18MB/s             "
       ]
      },
      {
       "output_type": "stream",
       "stream": "stdout",
       "text": [
        "\r",
        "turnstile_150110.tx     [        <=>           ]  16.96M  2.34MB/s             "
       ]
      },
      {
       "output_type": "stream",
       "stream": "stdout",
       "text": [
        "\r",
        "urnstile_150110.txt     [       <=>            ]  17.90M  2.54MB/s             "
       ]
      },
      {
       "output_type": "stream",
       "stream": "stdout",
       "text": [
        "\r",
        "rnstile_150110.txt.     [      <=>             ]  18.88M  2.63MB/s             "
       ]
      },
      {
       "output_type": "stream",
       "stream": "stdout",
       "text": [
        "\r",
        "turnstile_150110.tx     [     <=>              ]  19.60M  2.62MB/s             "
       ]
      },
      {
       "output_type": "stream",
       "stream": "stdout",
       "text": [
        "\r",
        "urnstile_150110.txt     [    <=>               ]  20.65M  2.67MB/s             "
       ]
      },
      {
       "output_type": "stream",
       "stream": "stdout",
       "text": [
        "\r",
        "rnstile_150110.txt.     [   <=>                ]  21.74M  2.86MB/s             "
       ]
      },
      {
       "output_type": "stream",
       "stream": "stdout",
       "text": [
        "\r",
        "turnstile_150110.tx     [  <=>                 ]  22.53M  2.85MB/s             "
       ]
      },
      {
       "output_type": "stream",
       "stream": "stdout",
       "text": [
        "\r",
        "urnstile_150110.txt     [ <=>                  ]  23.39M  3.02MB/s             "
       ]
      },
      {
       "output_type": "stream",
       "stream": "stdout",
       "text": [
        "\r",
        "rnstile_150110.txt.     [<=>                   ]  24.29M  3.23MB/s             \r",
        "turnstile_150110.tx     [ <=>                  ]  24.42M  3.49MB/s   in 8.1s   \r\n",
        "\r\n"
       ]
      },
      {
       "output_type": "stream",
       "stream": "stdout",
       "text": [
        "2015-01-13 10:32:47 (3.02 MB/s) - 'turnstile_150110.txt.1' saved [25610893]\r\n",
        "\r\n"
       ]
      },
      {
       "output_type": "stream",
       "stream": "stdout",
       "text": [
        "--2015-01-13 10:32:47--  http://web.mta.info/developers/data/nyct/turnstile/turnstile_150103.txt\r\n",
        "Resolving web.mta.info... 184.26.44.98, 184.26.44.96\r\n",
        "Connecting to web.mta.info|184.26.44.98|:80... connected.\r\n",
        "HTTP request sent, awaiting response... 200 OK\r\n",
        "Length: unspecified [text/plain]\r\n",
        "Saving to: 'turnstile_150103.txt'\r\n",
        "\r\n",
        "\r",
        "turnstile_150103.tx     [<=>                   ]       0  --.-KB/s             "
       ]
      },
      {
       "output_type": "stream",
       "stream": "stdout",
       "text": [
        "\r",
        "turnstile_150103.tx     [ <=>                  ] 501.66K  1.77MB/s             "
       ]
      },
      {
       "output_type": "stream",
       "stream": "stdout",
       "text": [
        "\r",
        "turnstile_150103.tx     [  <=>                 ]   1.27M  2.06MB/s             "
       ]
      },
      {
       "output_type": "stream",
       "stream": "stdout",
       "text": [
        "\r",
        "turnstile_150103.tx     [   <=>                ]   1.75M  2.05MB/s             "
       ]
      },
      {
       "output_type": "stream",
       "stream": "stdout",
       "text": [
        "\r",
        "turnstile_150103.tx     [    <=>               ]   2.80M  2.65MB/s             "
       ]
      },
      {
       "output_type": "stream",
       "stream": "stdout",
       "text": [
        "\r",
        "turnstile_150103.tx     [     <=>              ]   3.41M  2.68MB/s             "
       ]
      },
      {
       "output_type": "stream",
       "stream": "stdout",
       "text": [
        "\r",
        "turnstile_150103.tx     [      <=>             ]   3.66M  2.42MB/s             "
       ]
      },
      {
       "output_type": "stream",
       "stream": "stdout",
       "text": [
        "\r",
        "turnstile_150103.tx     [       <=>            ]   3.92M  2.10MB/s             "
       ]
      },
      {
       "output_type": "stream",
       "stream": "stdout",
       "text": [
        "\r",
        "turnstile_150103.tx     [        <=>           ]   3.95M  1.84MB/s             "
       ]
      },
      {
       "output_type": "stream",
       "stream": "stdout",
       "text": [
        "\r",
        "turnstile_150103.tx     [         <=>          ]   3.99M  1.69MB/s             "
       ]
      },
      {
       "output_type": "stream",
       "stream": "stdout",
       "text": [
        "\r",
        "turnstile_150103.tx     [          <=>         ]   4.42M  1.71MB/s             "
       ]
      },
      {
       "output_type": "stream",
       "stream": "stdout",
       "text": [
        "\r",
        "turnstile_150103.tx     [           <=>        ]   4.72M  1.70MB/s             "
       ]
      },
      {
       "output_type": "stream",
       "stream": "stdout",
       "text": [
        "\r",
        "turnstile_150103.tx     [            <=>       ]   4.93M  1.65MB/s             "
       ]
      },
      {
       "output_type": "stream",
       "stream": "stdout",
       "text": [
        "\r",
        "turnstile_150103.tx     [             <=>      ]   5.15M  1.61MB/s             "
       ]
      },
      {
       "output_type": "stream",
       "stream": "stdout",
       "text": [
        "\r",
        "turnstile_150103.tx     [              <=>     ]   5.18M  1.50MB/s             "
       ]
      },
      {
       "output_type": "stream",
       "stream": "stdout",
       "text": [
        "\r",
        "turnstile_150103.tx     [               <=>    ]   5.53M  1.51MB/s             "
       ]
      },
      {
       "output_type": "stream",
       "stream": "stdout",
       "text": [
        "\r",
        "turnstile_150103.tx     [                <=>   ]   5.92M  1.54MB/s             "
       ]
      },
      {
       "output_type": "stream",
       "stream": "stdout",
       "text": [
        "\r",
        "turnstile_150103.tx     [                 <=>  ]   5.96M  1.44MB/s             "
       ]
      },
      {
       "output_type": "stream",
       "stream": "stdout",
       "text": [
        "\r",
        "turnstile_150103.tx     [                  <=> ]   6.71M  1.46MB/s             "
       ]
      },
      {
       "output_type": "stream",
       "stream": "stdout",
       "text": [
        "\r",
        "turnstile_150103.tx     [                   <=>]   6.99M  1.39MB/s             "
       ]
      },
      {
       "output_type": "stream",
       "stream": "stdout",
       "text": [
        "\r",
        "turnstile_150103.tx     [                  <=> ]   7.71M  1.41MB/s             "
       ]
      },
      {
       "output_type": "stream",
       "stream": "stdout",
       "text": [
        "\r",
        "turnstile_150103.tx     [                 <=>  ]   8.00M  1.27MB/s             "
       ]
      },
      {
       "output_type": "stream",
       "stream": "stdout",
       "text": [
        "\r",
        "turnstile_150103.tx     [                <=>   ]   8.30M  1.22MB/s             "
       ]
      },
      {
       "output_type": "stream",
       "stream": "stdout",
       "text": [
        "\r",
        "turnstile_150103.tx     [               <=>    ]   8.92M  1.30MB/s             "
       ]
      },
      {
       "output_type": "stream",
       "stream": "stdout",
       "text": [
        "\r",
        "turnstile_150103.tx     [              <=>     ]   9.71M  1.50MB/s             "
       ]
      },
      {
       "output_type": "stream",
       "stream": "stdout",
       "text": [
        "\r",
        "turnstile_150103.tx     [             <=>      ]   9.97M  1.58MB/s             "
       ]
      },
      {
       "output_type": "stream",
       "stream": "stdout",
       "text": [
        "\r",
        "turnstile_150103.tx     [            <=>       ]  10.52M  1.70MB/s             "
       ]
      },
      {
       "output_type": "stream",
       "stream": "stdout",
       "text": [
        "\r",
        "turnstile_150103.tx     [           <=>        ]  11.02M  1.73MB/s             "
       ]
      },
      {
       "output_type": "stream",
       "stream": "stdout",
       "text": [
        "\r",
        "turnstile_150103.tx     [          <=>         ]  11.89M  1.90MB/s             "
       ]
      },
      {
       "output_type": "stream",
       "stream": "stdout",
       "text": [
        "\r",
        "turnstile_150103.tx     [         <=>          ]  12.60M  2.03MB/s             "
       ]
      },
      {
       "output_type": "stream",
       "stream": "stdout",
       "text": [
        "\r",
        "turnstile_150103.tx     [        <=>           ]  13.31M  2.13MB/s             "
       ]
      },
      {
       "output_type": "stream",
       "stream": "stdout",
       "text": [
        "\r",
        "turnstile_150103.tx     [       <=>            ]  14.00M  2.37MB/s             "
       ]
      },
      {
       "output_type": "stream",
       "stream": "stdout",
       "text": [
        "\r",
        "turnstile_150103.tx     [      <=>             ]  14.33M  2.36MB/s             "
       ]
      },
      {
       "output_type": "stream",
       "stream": "stdout",
       "text": [
        "\r",
        "turnstile_150103.tx     [     <=>              ]  14.66M  2.46MB/s             "
       ]
      },
      {
       "output_type": "stream",
       "stream": "stdout",
       "text": [
        "\r",
        "turnstile_150103.tx     [    <=>               ]  15.33M  2.47MB/s             "
       ]
      },
      {
       "output_type": "stream",
       "stream": "stdout",
       "text": [
        "\r",
        "turnstile_150103.tx     [   <=>                ]  15.64M  2.43MB/s             "
       ]
      },
      {
       "output_type": "stream",
       "stream": "stdout",
       "text": [
        "\r",
        "turnstile_150103.tx     [  <=>                 ]  15.92M  2.45MB/s             "
       ]
      },
      {
       "output_type": "stream",
       "stream": "stdout",
       "text": [
        "\r",
        "turnstile_150103.tx     [ <=>                  ]  16.61M  2.62MB/s             "
       ]
      },
      {
       "output_type": "stream",
       "stream": "stdout",
       "text": [
        "\r",
        "turnstile_150103.tx     [<=>                   ]  17.39M  2.72MB/s             "
       ]
      },
      {
       "output_type": "stream",
       "stream": "stdout",
       "text": [
        "\r",
        "turnstile_150103.tx     [ <=>                  ]  18.17M  2.76MB/s             "
       ]
      },
      {
       "output_type": "stream",
       "stream": "stdout",
       "text": [
        "\r",
        "turnstile_150103.tx     [  <=>                 ]  18.99M  2.83MB/s             "
       ]
      },
      {
       "output_type": "stream",
       "stream": "stdout",
       "text": [
        "\r",
        "turnstile_150103.tx     [   <=>                ]  19.72M  3.01MB/s             "
       ]
      },
      {
       "output_type": "stream",
       "stream": "stdout",
       "text": [
        "\r",
        "turnstile_150103.tx     [    <=>               ]  20.29M  3.00MB/s             "
       ]
      },
      {
       "output_type": "stream",
       "stream": "stdout",
       "text": [
        "\r",
        "turnstile_150103.tx     [     <=>              ]  20.56M  2.86MB/s             "
       ]
      },
      {
       "output_type": "stream",
       "stream": "stdout",
       "text": [
        "\r",
        "turnstile_150103.tx     [      <=>             ]  21.17M  2.85MB/s             "
       ]
      },
      {
       "output_type": "stream",
       "stream": "stdout",
       "text": [
        "\r",
        "turnstile_150103.tx     [       <=>            ]  21.93M  2.86MB/s             "
       ]
      },
      {
       "output_type": "stream",
       "stream": "stdout",
       "text": [
        "\r",
        "turnstile_150103.tx     [        <=>           ]  22.15M  2.72MB/s             "
       ]
      },
      {
       "output_type": "stream",
       "stream": "stdout",
       "text": [
        "\r",
        "turnstile_150103.tx     [         <=>          ]  22.37M  2.58MB/s             "
       ]
      },
      {
       "output_type": "stream",
       "stream": "stdout",
       "text": [
        "\r",
        "turnstile_150103.tx     [          <=>         ]  22.82M  2.56MB/s             "
       ]
      },
      {
       "output_type": "stream",
       "stream": "stdout",
       "text": [
        "\r",
        "turnstile_150103.tx     [           <=>        ]  23.46M  2.67MB/s             "
       ]
      },
      {
       "output_type": "stream",
       "stream": "stdout",
       "text": [
        "\r",
        "turnstile_150103.tx     [            <=>       ]  24.25M  2.76MB/s   in 11s    \r\n",
        "\r\n",
        "2015-01-13 10:32:58 (2.19 MB/s) - 'turnstile_150103.txt' saved [25428934]\r\n",
        "\r\n"
       ]
      },
      {
       "output_type": "stream",
       "stream": "stdout",
       "text": [
        "--2015-01-13 10:32:58--  http://web.mta.info/developers/data/nyct/turnstile/turnstile_141227.txt\r\n",
        "Resolving web.mta.info... 184.26.44.98, 184.26.44.96\r\n",
        "Connecting to web.mta.info|184.26.44.98|:80... connected.\r\n",
        "HTTP request sent, awaiting response... 200 OK\r\n",
        "Length: unspecified [text/plain]\r\n",
        "Saving to: 'turnstile_141227.txt'\r\n",
        "\r\n",
        "\r",
        "turnstile_141227.tx     [<=>                   ]       0  --.-KB/s             "
       ]
      },
      {
       "output_type": "stream",
       "stream": "stdout",
       "text": [
        "\r",
        "turnstile_141227.tx     [ <=>                  ] 258.34K  1.12MB/s             "
       ]
      },
      {
       "output_type": "stream",
       "stream": "stdout",
       "text": [
        "\r",
        "turnstile_141227.tx     [  <=>                 ] 571.38K  1.31MB/s             "
       ]
      },
      {
       "output_type": "stream",
       "stream": "stdout",
       "text": [
        "\r",
        "turnstile_141227.tx     [   <=>                ] 774.61K  1.19MB/s             "
       ]
      },
      {
       "output_type": "stream",
       "stream": "stdout",
       "text": [
        "\r",
        "turnstile_141227.tx     [    <=>               ]   1.11M  1.32MB/s             "
       ]
      },
      {
       "output_type": "stream",
       "stream": "stdout",
       "text": [
        "\r",
        "turnstile_141227.tx     [     <=>              ]   1.87M  1.79MB/s             "
       ]
      },
      {
       "output_type": "stream",
       "stream": "stdout",
       "text": [
        "\r",
        "turnstile_141227.tx     [      <=>             ]   2.60M  2.06MB/s             "
       ]
      },
      {
       "output_type": "stream",
       "stream": "stdout",
       "text": [
        "\r",
        "turnstile_141227.tx     [       <=>            ]   3.36M  2.29MB/s             "
       ]
      },
      {
       "output_type": "stream",
       "stream": "stdout",
       "text": [
        "\r",
        "turnstile_141227.tx     [        <=>           ]   4.19M  2.51MB/s             "
       ]
      },
      {
       "output_type": "stream",
       "stream": "stdout",
       "text": [
        "\r",
        "turnstile_141227.tx     [         <=>          ]   4.87M  2.61MB/s             "
       ]
      },
      {
       "output_type": "stream",
       "stream": "stdout",
       "text": [
        "\r",
        "turnstile_141227.tx     [          <=>         ]   5.44M  2.63MB/s             "
       ]
      },
      {
       "output_type": "stream",
       "stream": "stdout",
       "text": [
        "\r",
        "turnstile_141227.tx     [           <=>        ]   6.09M  2.68MB/s             "
       ]
      },
      {
       "output_type": "stream",
       "stream": "stdout",
       "text": [
        "\r",
        "turnstile_141227.tx     [            <=>       ]   6.67M  2.69MB/s             "
       ]
      },
      {
       "output_type": "stream",
       "stream": "stdout",
       "text": [
        "\r",
        "turnstile_141227.tx     [             <=>      ]   7.78M  2.90MB/s             "
       ]
      },
      {
       "output_type": "stream",
       "stream": "stdout",
       "text": [
        "\r",
        "turnstile_141227.tx     [              <=>     ]   8.57M  2.97MB/s             "
       ]
      },
      {
       "output_type": "stream",
       "stream": "stdout",
       "text": [
        "\r",
        "turnstile_141227.tx     [               <=>    ]   9.39M  3.04MB/s             "
       ]
      },
      {
       "output_type": "stream",
       "stream": "stdout",
       "text": [
        "\r",
        "turnstile_141227.tx     [                <=>   ]  10.23M  3.11MB/s             "
       ]
      },
      {
       "output_type": "stream",
       "stream": "stdout",
       "text": [
        "\r",
        "turnstile_141227.tx     [                 <=>  ]  10.72M  3.18MB/s             "
       ]
      },
      {
       "output_type": "stream",
       "stream": "stdout",
       "text": [
        "\r",
        "turnstile_141227.tx     [                  <=> ]  11.32M  3.27MB/s             "
       ]
      },
      {
       "output_type": "stream",
       "stream": "stdout",
       "text": [
        "\r",
        "turnstile_141227.tx     [                   <=>]  12.00M  3.42MB/s             "
       ]
      },
      {
       "output_type": "stream",
       "stream": "stdout",
       "text": [
        "\r",
        "turnstile_141227.tx     [                  <=> ]  12.20M  3.42MB/s             "
       ]
      },
      {
       "output_type": "stream",
       "stream": "stdout",
       "text": [
        "\r",
        "turnstile_141227.tx     [                 <=>  ]  12.86M  3.32MB/s             "
       ]
      },
      {
       "output_type": "stream",
       "stream": "stdout",
       "text": [
        "\r",
        "turnstile_141227.tx     [                <=>   ]  13.55M  3.32MB/s             "
       ]
      },
      {
       "output_type": "stream",
       "stream": "stdout",
       "text": [
        "\r",
        "turnstile_141227.tx     [               <=>    ]  14.13M  3.26MB/s             "
       ]
      },
      {
       "output_type": "stream",
       "stream": "stdout",
       "text": [
        "\r",
        "turnstile_141227.tx     [              <=>     ]  14.87M  3.29MB/s             "
       ]
      },
      {
       "output_type": "stream",
       "stream": "stdout",
       "text": [
        "\r",
        "turnstile_141227.tx     [             <=>      ]  15.88M  3.31MB/s             "
       ]
      },
      {
       "output_type": "stream",
       "stream": "stdout",
       "text": [
        "\r",
        "turnstile_141227.tx     [            <=>       ]  16.87M  3.48MB/s             "
       ]
      },
      {
       "output_type": "stream",
       "stream": "stdout",
       "text": [
        "\r",
        "turnstile_141227.tx     [           <=>        ]  17.43M  3.44MB/s             "
       ]
      },
      {
       "output_type": "stream",
       "stream": "stdout",
       "text": [
        "\r",
        "turnstile_141227.tx     [          <=>         ]  18.47M  3.52MB/s             "
       ]
      },
      {
       "output_type": "stream",
       "stream": "stdout",
       "text": [
        "\r",
        "turnstile_141227.tx     [         <=>          ]  19.25M  3.48MB/s             "
       ]
      },
      {
       "output_type": "stream",
       "stream": "stdout",
       "text": [
        "\r",
        "turnstile_141227.tx     [        <=>           ]  20.23M  3.52MB/s             "
       ]
      },
      {
       "output_type": "stream",
       "stream": "stdout",
       "text": [
        "\r",
        "turnstile_141227.tx     [       <=>            ]  20.97M  3.47MB/s             "
       ]
      },
      {
       "output_type": "stream",
       "stream": "stdout",
       "text": [
        "\r",
        "turnstile_141227.tx     [      <=>             ]  21.67M  3.51MB/s             "
       ]
      },
      {
       "output_type": "stream",
       "stream": "stdout",
       "text": [
        "\r",
        "turnstile_141227.tx     [     <=>              ]  22.60M  3.63MB/s             "
       ]
      },
      {
       "output_type": "stream",
       "stream": "stdout",
       "text": [
        "\r",
        "turnstile_141227.tx     [    <=>               ]  23.28M  3.61MB/s             "
       ]
      },
      {
       "output_type": "stream",
       "stream": "stdout",
       "text": [
        "\r",
        "turnstile_141227.tx     [   <=>                ]  24.18M  3.67MB/s   in 7.2s   \r\n",
        "\r\n",
        "2015-01-13 10:33:06 (3.35 MB/s) - 'turnstile_141227.txt' saved [25352299]\r\n",
        "\r\n"
       ]
      },
      {
       "output_type": "stream",
       "stream": "stdout",
       "text": [
        "--2015-01-13 10:33:06--  http://web.mta.info/developers/data/nyct/turnstile/turnstile_141220.txt\r\n",
        "Resolving web.mta.info... 184.26.44.98, 184.26.44.96\r\n",
        "Connecting to web.mta.info|184.26.44.98|:80... connected.\r\n",
        "HTTP request sent, awaiting response... 200 OK\r\n",
        "Length: unspecified [text/plain]\r\n",
        "Saving to: 'turnstile_141220.txt'\r\n",
        "\r\n",
        "\r",
        "turnstile_141220.tx     [<=>                   ]       0  --.-KB/s             "
       ]
      },
      {
       "output_type": "stream",
       "stream": "stdout",
       "text": [
        "\r",
        "turnstile_141220.tx     [ <=>                  ] 742.06K  3.27MB/s             "
       ]
      },
      {
       "output_type": "stream",
       "stream": "stdout",
       "text": [
        "\r",
        "turnstile_141220.tx     [  <=>                 ]   1.59M  3.78MB/s             "
       ]
      },
      {
       "output_type": "stream",
       "stream": "stdout",
       "text": [
        "\r",
        "turnstile_141220.tx     [   <=>                ]   2.43M  3.62MB/s             "
       ]
      },
      {
       "output_type": "stream",
       "stream": "stdout",
       "text": [
        "\r",
        "turnstile_141220.tx     [    <=>               ]   2.48M  2.85MB/s             "
       ]
      },
      {
       "output_type": "stream",
       "stream": "stdout",
       "text": [
        "\r",
        "turnstile_141220.tx     [     <=>              ]   3.48M  3.09MB/s             "
       ]
      },
      {
       "output_type": "stream",
       "stream": "stdout",
       "text": [
        "\r",
        "turnstile_141220.tx     [      <=>             ]   4.39M  3.32MB/s             "
       ]
      },
      {
       "output_type": "stream",
       "stream": "stdout",
       "text": [
        "\r",
        "turnstile_141220.tx     [       <=>            ]   5.01M  3.26MB/s             "
       ]
      },
      {
       "output_type": "stream",
       "stream": "stdout",
       "text": [
        "\r",
        "turnstile_141220.tx     [        <=>           ]   6.05M  3.36MB/s             "
       ]
      },
      {
       "output_type": "stream",
       "stream": "stdout",
       "text": [
        "\r",
        "turnstile_141220.tx     [         <=>          ]   7.20M  3.60MB/s             "
       ]
      },
      {
       "output_type": "stream",
       "stream": "stdout",
       "text": [
        "\r",
        "turnstile_141220.tx     [          <=>         ]   7.91M  3.59MB/s             "
       ]
      },
      {
       "output_type": "stream",
       "stream": "stdout",
       "text": [
        "\r",
        "turnstile_141220.tx     [           <=>        ]   9.01M  3.74MB/s             "
       ]
      },
      {
       "output_type": "stream",
       "stream": "stdout",
       "text": [
        "\r",
        "turnstile_141220.tx     [            <=>       ]   9.69M  3.72MB/s             "
       ]
      },
      {
       "output_type": "stream",
       "stream": "stdout",
       "text": [
        "\r",
        "turnstile_141220.tx     [             <=>      ]  10.37M  3.69MB/s             "
       ]
      },
      {
       "output_type": "stream",
       "stream": "stdout",
       "text": [
        "\r",
        "turnstile_141220.tx     [              <=>     ]  11.13M  3.70MB/s             "
       ]
      },
      {
       "output_type": "stream",
       "stream": "stdout",
       "text": [
        "\r",
        "turnstile_141220.tx     [               <=>    ]  11.89M  3.70MB/s             "
       ]
      },
      {
       "output_type": "stream",
       "stream": "stdout",
       "text": [
        "\r",
        "turnstile_141220.tx     [                <=>   ]  12.46M  3.67MB/s             "
       ]
      },
      {
       "output_type": "stream",
       "stream": "stdout",
       "text": [
        "\r",
        "turnstile_141220.tx     [                 <=>  ]  13.42M  3.68MB/s             "
       ]
      },
      {
       "output_type": "stream",
       "stream": "stdout",
       "text": [
        "\r",
        "turnstile_141220.tx     [                  <=> ]  14.27M  3.70MB/s             "
       ]
      },
      {
       "output_type": "stream",
       "stream": "stdout",
       "text": [
        "\r",
        "turnstile_141220.tx     [                   <=>]  14.92M  3.64MB/s             "
       ]
      },
      {
       "output_type": "stream",
       "stream": "stdout",
       "text": [
        "\r",
        "turnstile_141220.tx     [                  <=> ]  15.48M  3.94MB/s             "
       ]
      },
      {
       "output_type": "stream",
       "stream": "stdout",
       "text": [
        "\r",
        "turnstile_141220.tx     [                 <=>  ]  15.95M  3.76MB/s             "
       ]
      },
      {
       "output_type": "stream",
       "stream": "stdout",
       "text": [
        "\r",
        "turnstile_141220.tx     [                <=>   ]  16.86M  3.79MB/s             "
       ]
      },
      {
       "output_type": "stream",
       "stream": "stdout",
       "text": [
        "\r",
        "turnstile_141220.tx     [               <=>    ]  17.42M  3.72MB/s             "
       ]
      },
      {
       "output_type": "stream",
       "stream": "stdout",
       "text": [
        "\r",
        "turnstile_141220.tx     [              <=>     ]  18.01M  3.68MB/s             "
       ]
      },
      {
       "output_type": "stream",
       "stream": "stdout",
       "text": [
        "\r",
        "turnstile_141220.tx     [             <=>      ]  18.79M  3.61MB/s             "
       ]
      },
      {
       "output_type": "stream",
       "stream": "stdout",
       "text": [
        "\r",
        "turnstile_141220.tx     [            <=>       ]  19.52M  3.52MB/s             "
       ]
      },
      {
       "output_type": "stream",
       "stream": "stdout",
       "text": [
        "\r",
        "turnstile_141220.tx     [           <=>        ]  20.30M  3.35MB/s             "
       ]
      },
      {
       "output_type": "stream",
       "stream": "stdout",
       "text": [
        "\r",
        "turnstile_141220.tx     [          <=>         ]  20.85M  3.30MB/s             "
       ]
      },
      {
       "output_type": "stream",
       "stream": "stdout",
       "text": [
        "\r",
        "turnstile_141220.tx     [         <=>          ]  21.55M  3.24MB/s             "
       ]
      },
      {
       "output_type": "stream",
       "stream": "stdout",
       "text": [
        "\r",
        "turnstile_141220.tx     [        <=>           ]  22.48M  3.29MB/s             "
       ]
      },
      {
       "output_type": "stream",
       "stream": "stdout",
       "text": [
        "\r",
        "turnstile_141220.tx     [       <=>            ]  23.26M  3.34MB/s             "
       ]
      },
      {
       "output_type": "stream",
       "stream": "stdout",
       "text": [
        "\r",
        "turnstile_141220.tx     [      <=>             ]  24.04M  3.36MB/s   in 6.8s   \r\n",
        "\r\n",
        "2015-01-13 10:33:13 (3.54 MB/s) - 'turnstile_141220.txt' saved [25208068]\r\n",
        "\r\n"
       ]
      },
      {
       "output_type": "stream",
       "stream": "stdout",
       "text": [
        "--2015-01-13 10:33:13--  http://web.mta.info/developers/data/nyct/turnstile/turnstile_141213.txt\r\n",
        "Resolving web.mta.info... 184.26.44.96, 184.26.44.98\r\n",
        "Connecting to web.mta.info|184.26.44.96|:80... connected.\r\n",
        "HTTP request sent, awaiting response... "
       ]
      },
      {
       "output_type": "stream",
       "stream": "stdout",
       "text": [
        "200 OK\r\n",
        "Length: unspecified [text/plain]\r\n",
        "Saving to: 'turnstile_141213.txt'\r\n",
        "\r\n",
        "\r",
        "turnstile_141213.tx     [<=>                   ]       0  --.-KB/s             "
       ]
      },
      {
       "output_type": "stream",
       "stream": "stdout",
       "text": [
        "\r",
        "turnstile_141213.tx     [ <=>                  ] 265.81K  1.29MB/s             "
       ]
      },
      {
       "output_type": "stream",
       "stream": "stdout",
       "text": [
        "\r",
        "turnstile_141213.tx     [  <=>                 ]   1.30M  2.94MB/s             "
       ]
      },
      {
       "output_type": "stream",
       "stream": "stdout",
       "text": [
        "\r",
        "turnstile_141213.tx     [   <=>                ]   1.87M  2.88MB/s             "
       ]
      },
      {
       "output_type": "stream",
       "stream": "stdout",
       "text": [
        "\r",
        "turnstile_141213.tx     [    <=>               ]   2.76M  3.23MB/s             "
       ]
      },
      {
       "output_type": "stream",
       "stream": "stdout",
       "text": [
        "\r",
        "turnstile_141213.tx     [     <=>              ]   3.44M  3.14MB/s             "
       ]
      },
      {
       "output_type": "stream",
       "stream": "stdout",
       "text": [
        "\r",
        "turnstile_141213.tx     [      <=>             ]   4.19M  3.17MB/s             "
       ]
      },
      {
       "output_type": "stream",
       "stream": "stdout",
       "text": [
        "\r",
        "turnstile_141213.tx     [       <=>            ]   4.98M  3.27MB/s             "
       ]
      },
      {
       "output_type": "stream",
       "stream": "stdout",
       "text": [
        "\r",
        "turnstile_141213.tx     [        <=>           ]   5.73M  3.26MB/s             "
       ]
      },
      {
       "output_type": "stream",
       "stream": "stdout",
       "text": [
        "\r",
        "turnstile_141213.tx     [         <=>          ]   6.72M  3.43MB/s             "
       ]
      },
      {
       "output_type": "stream",
       "stream": "stdout",
       "text": [
        "\r",
        "turnstile_141213.tx     [          <=>         ]   7.38M  3.42MB/s             "
       ]
      },
      {
       "output_type": "stream",
       "stream": "stdout",
       "text": [
        "\r",
        "turnstile_141213.tx     [           <=>        ]   8.54M  3.62MB/s             "
       ]
      },
      {
       "output_type": "stream",
       "stream": "stdout",
       "text": [
        "\r",
        "turnstile_141213.tx     [            <=>       ]   9.19M  3.58MB/s             "
       ]
      },
      {
       "output_type": "stream",
       "stream": "stdout",
       "text": [
        "\r",
        "turnstile_141213.tx     [             <=>      ]  10.17M  3.68MB/s             "
       ]
      },
      {
       "output_type": "stream",
       "stream": "stdout",
       "text": [
        "\r",
        "turnstile_141213.tx     [              <=>     ]  10.99M  3.68MB/s             "
       ]
      },
      {
       "output_type": "stream",
       "stream": "stdout",
       "text": [
        "\r",
        "turnstile_141213.tx     [               <=>    ]  11.79M  3.70MB/s             "
       ]
      },
      {
       "output_type": "stream",
       "stream": "stdout",
       "text": [
        "\r",
        "turnstile_141213.tx     [                <=>   ]  12.65M  3.89MB/s             "
       ]
      },
      {
       "output_type": "stream",
       "stream": "stdout",
       "text": [
        "\r",
        "turnstile_141213.tx     [                 <=>  ]  13.57M  3.86MB/s             "
       ]
      },
      {
       "output_type": "stream",
       "stream": "stdout",
       "text": [
        "\r",
        "turnstile_141213.tx     [                  <=> ]  14.00M  3.87MB/s             "
       ]
      },
      {
       "output_type": "stream",
       "stream": "stdout",
       "text": [
        "\r",
        "turnstile_141213.tx     [                   <=>]  14.65M  3.78MB/s             "
       ]
      },
      {
       "output_type": "stream",
       "stream": "stdout",
       "text": [
        "\r",
        "turnstile_141213.tx     [                  <=> ]  15.52M  3.81MB/s             "
       ]
      },
      {
       "output_type": "stream",
       "stream": "stdout",
       "text": [
        "\r",
        "turnstile_141213.tx     [                 <=>  ]  16.33M  3.91MB/s             "
       ]
      },
      {
       "output_type": "stream",
       "stream": "stdout",
       "text": [
        "\r",
        "turnstile_141213.tx     [                <=>   ]  17.19M  3.92MB/s             "
       ]
      },
      {
       "output_type": "stream",
       "stream": "stdout",
       "text": [
        "\r",
        "turnstile_141213.tx     [               <=>    ]  17.97M  3.95MB/s             "
       ]
      },
      {
       "output_type": "stream",
       "stream": "stdout",
       "text": [
        "\r",
        "turnstile_141213.tx     [              <=>     ]  18.50M  3.90MB/s             "
       ]
      },
      {
       "output_type": "stream",
       "stream": "stdout",
       "text": [
        "\r",
        "turnstile_141213.tx     [             <=>      ]  19.36M  3.97MB/s             "
       ]
      },
      {
       "output_type": "stream",
       "stream": "stdout",
       "text": [
        "\r",
        "turnstile_141213.tx     [            <=>       ]  20.15M  3.88MB/s             "
       ]
      },
      {
       "output_type": "stream",
       "stream": "stdout",
       "text": [
        "\r",
        "turnstile_141213.tx     [           <=>        ]  20.66M  3.76MB/s             "
       ]
      },
      {
       "output_type": "stream",
       "stream": "stdout",
       "text": [
        "\r",
        "turnstile_141213.tx     [          <=>         ]  21.21M  3.66MB/s             "
       ]
      },
      {
       "output_type": "stream",
       "stream": "stdout",
       "text": [
        "\r",
        "turnstile_141213.tx     [         <=>          ]  21.97M  3.56MB/s             "
       ]
      },
      {
       "output_type": "stream",
       "stream": "stdout",
       "text": [
        "\r",
        "turnstile_141213.tx     [        <=>           ]  22.78M  3.56MB/s             "
       ]
      },
      {
       "output_type": "stream",
       "stream": "stdout",
       "text": [
        "\r",
        "turnstile_141213.tx     [       <=>            ]  23.76M  3.67MB/s             "
       ]
      },
      {
       "output_type": "stream",
       "stream": "stdout",
       "text": [
        "\r",
        "turnstile_141213.tx     [      <=>             ]  24.04M  3.63MB/s   in 6.5s   \r\n",
        "\r\n"
       ]
      },
      {
       "output_type": "stream",
       "stream": "stdout",
       "text": [
        "2015-01-13 10:33:19 (3.67 MB/s) - 'turnstile_141213.txt' saved [25204662]\r\n",
        "\r\n"
       ]
      }
     ],
     "prompt_number": 1
    },
    {
     "cell_type": "code",
     "collapsed": false,
     "input": [
      "!head turnstile_150110.txt"
     ],
     "language": "python",
     "metadata": {},
     "outputs": [
      {
       "output_type": "stream",
       "stream": "stdout",
       "text": [
        "C/A,UNIT,SCP,STATION,LINENAME,DIVISION,DATE,TIME,DESC,ENTRIES,EXITS                                                               \r\n",
        "A002,R051,02-00-00,LEXINGTON AVE,NQR456,BMT,01/03/2015,03:00:00,REGULAR,0004945474,0001675324                                     \r\n",
        "A002,R051,02-00-00,LEXINGTON AVE,NQR456,BMT,01/03/2015,07:00:00,REGULAR,0004945478,0001675333                                     \r\n",
        "A002,R051,02-00-00,LEXINGTON AVE,NQR456,BMT,01/03/2015,11:00:00,REGULAR,0004945515,0001675364                                     \r\n",
        "A002,R051,02-00-00,LEXINGTON AVE,NQR456,BMT,01/03/2015,15:00:00,REGULAR,0004945679,0001675408                                     \r\n",
        "A002,R051,02-00-00,LEXINGTON AVE,NQR456,BMT,01/03/2015,19:00:00,REGULAR,0004946006,0001675469                                     \r\n",
        "A002,R051,02-00-00,LEXINGTON AVE,NQR456,BMT,01/03/2015,23:00:00,REGULAR,0004946200,0001675511                                     \r\n",
        "A002,R051,02-00-00,LEXINGTON AVE,NQR456,BMT,01/04/2015,03:00:00,REGULAR,0004946237,0001675520                                     \r\n",
        "A002,R051,02-00-00,LEXINGTON AVE,NQR456,BMT,01/04/2015,07:00:00,REGULAR,0004946240,0001675524                                     \r\n",
        "A002,R051,02-00-00,LEXINGTON AVE,NQR456,BMT,01/04/2015,11:00:00,REGULAR,0004946280,0001675542                                     \r\n"
       ]
      }
     ],
     "prompt_number": 1
    },
    {
     "cell_type": "code",
     "collapsed": false,
     "input": [
      "# One key-value pair should look like ('A002','R051','02-00-00','LEXINGTON AVE'):[''NQR456', 'BMT', '01/03/2015', '03:00:00', 'REGULAR', '0004945474', '0001675324']\n",
      "import csv"
     ],
     "language": "python",
     "metadata": {},
     "outputs": [],
     "prompt_number": 2
    },
    {
     "cell_type": "code",
     "collapsed": false,
     "input": [
      "def ts_function(turnstile_file, end_of_key_index):\n",
      "    # Open up a file\n",
      "#     with open('turnstile_150110.txt', 'r') as turnstile_file:\n",
      "    with open(turnstile_file, 'r') as turnstile_file:\n",
      "        mta_dict = {}\n",
      "        mta_key = ()\n",
      "        mta_key_value = []\n",
      "        mta_values = []\n",
      "    # use csv reader to read it\n",
      "        reader = csv.reader(turnstile_file)\n",
      "        for count, row in enumerate(reader):\n",
      "        # make a python dict where there is a key for each (C/A, UNIT, SCP, STATION).\n",
      "        # These are the first four columns.\n",
      "            if count == 0:\n",
      "                continue # skip 1st row of headers\n",
      "            mta_key = tuple(row[:end_of_key_index])\n",
      "            mta_values = row[end_of_key_index:]\n",
      "        \n",
      "            # check if key exists in dict \n",
      "            if mta_key not in mta_dict:\n",
      "                mta_dict[mta_key] = []\n",
      "                \n",
      "            mta_dict[mta_key].append(mta_values)\n",
      "    turnstile_file.close()\n",
      "        \n",
      "    return mta_dict"
     ],
     "language": "python",
     "metadata": {},
     "outputs": [],
     "prompt_number": 3
    },
    {
     "cell_type": "code",
     "collapsed": false,
     "input": [
      "turnstile_data = ts_function('turnstile_150110.txt', 4)"
     ],
     "language": "python",
     "metadata": {},
     "outputs": [],
     "prompt_number": 4
    },
    {
     "cell_type": "code",
     "collapsed": false,
     "input": [
      "key, value = turnstile_data.items()[0]\n",
      "key2, value2 = turnstile_data.items()[1]\n",
      "key3, value3 = turnstile_data.items()[2]\n",
      "key4, value4 = turnstile_data.items()[3]\n",
      "last_key, last_val = turnstile_data.items()[-1]\n",
      "\n",
      "import pprint as pp\n",
      "\n",
      "\n",
      "print 'key', key\n",
      "print 'value'\n",
      "pp.pprint(value[:6])\n",
      "# print '\\nkey2', key2\n",
      "# print 'value2', value2[:6]\n",
      "# print '\\nkey3', key3\n",
      "# print 'value3', value3[:6]\n",
      "# print '\\nkey4', key4\n",
      "# print 'value4', value4[:6]\n",
      "# print '\\nlast key', last_key\n",
      "# print 'last val'\n",
      "# pp.pprint( last_val[:6] )"
     ],
     "language": "python",
     "metadata": {},
     "outputs": [
      {
       "output_type": "stream",
       "stream": "stdout",
       "text": [
        "key ('A030', 'R083', '01-06-00', '23 ST-5 AVE')\n",
        "value\n",
        "[['NR',\n",
        "  'BMT',\n",
        "  '01/03/2015',\n",
        "  '03:00:00',\n",
        "  'REGULAR',\n",
        "  '0005585420',\n",
        "  '0003141272                                           '],\n",
        " ['NR',\n",
        "  'BMT',\n",
        "  '01/03/2015',\n",
        "  '07:00:00',\n",
        "  'REGULAR',\n",
        "  '0005585431',\n",
        "  '0003141279                                           '],\n",
        " ['NR',\n",
        "  'BMT',\n",
        "  '01/03/2015',\n",
        "  '11:00:00',\n",
        "  'REGULAR',\n",
        "  '0005585499',\n",
        "  '0003141380                                           '],\n",
        " ['NR',\n",
        "  'BMT',\n",
        "  '01/03/2015',\n",
        "  '15:00:00',\n",
        "  'REGULAR',\n",
        "  '0005585731',\n",
        "  '0003141606                                           '],\n",
        " ['NR',\n",
        "  'BMT',\n",
        "  '01/03/2015',\n",
        "  '19:00:00',\n",
        "  'REGULAR',\n",
        "  '0005586046',\n",
        "  '0003141826                                           '],\n",
        " ['NR',\n",
        "  'BMT',\n",
        "  '01/03/2015',\n",
        "  '23:00:00',\n",
        "  'REGULAR',\n",
        "  '0005586227',\n",
        "  '0003141907                                           ']]\n"
       ]
      }
     ],
     "prompt_number": 5
    },
    {
     "cell_type": "heading",
     "level": 1,
     "metadata": {},
     "source": [
      "Challenge 2"
     ]
    },
    {
     "cell_type": "code",
     "collapsed": false,
     "input": [
      "# Use parser to change data and time\n",
      "def cleandate(date, time):\n",
      "    from dateutil import parser\n",
      "    return parser.parse('%sT%s' % (date, time))\n",
      "\n",
      "# print cleandate(value[0][2], value[0][3])\n",
      "# print cleandate(value2[0][2], value2[0][3])"
     ],
     "language": "python",
     "metadata": {},
     "outputs": [],
     "prompt_number": 6
    },
    {
     "cell_type": "code",
     "collapsed": false,
     "input": [
      "def mta_timeseries(old_dict):\n",
      "# convert date and time in MTA data dict into new dict with value as (timeseries and entries count)\n",
      "    new_dict = {}\n",
      "    for k, v in old_dict.iteritems():\n",
      "\n",
      "        # handle new key\n",
      "        if k not in new_dict.keys():\n",
      "            new_dict[k] = []\n",
      "        \n",
      "        for row in v:    \n",
      "\n",
      "            date1, time1 = row[-5:-3] # from end of row to allow for variable key length\n",
      "            entries = int(row[-2])\n",
      "\n",
      "            datetime = cleandate(date1, time1)\n",
      "            new_entry = [datetime, entries]\n",
      "            new_dict[k].append(new_entry)\n",
      "            \n",
      "    return new_dict\n"
     ],
     "language": "python",
     "metadata": {},
     "outputs": [],
     "prompt_number": 7
    },
    {
     "cell_type": "code",
     "collapsed": false,
     "input": [
      "turnstile_timeseries = mta_timeseries(turnstile_data)"
     ],
     "language": "python",
     "metadata": {},
     "outputs": [],
     "prompt_number": 8
    },
    {
     "cell_type": "code",
     "collapsed": false,
     "input": [
      "key, value = turnstile_timeseries.items()[0]\n",
      "key2, value2 = turnstile_timeseries.items()[1]\n",
      "key3, value3 = turnstile_timeseries.items()[2]\n",
      "key4, value4 = turnstile_timeseries.items()[3]\n",
      "lastkey, lastval = turnstile_timeseries.items()[-1]\n",
      "import pprint as pp\n",
      "\n",
      "print 'key', key\n",
      "print 'value'\n",
      "pp.pprint(value)\n",
      "# print '\\nkey2', key2\n",
      "# print 'value2', value2\n",
      "# print '\\nkey3', key3\n",
      "# print 'value3', value3\n",
      "# print '\\nkey4', key4\n",
      "# print 'value4', value4\n",
      "# print '\\nlast key', lastkey\n",
      "# print 'last value'\n",
      "# pp.pprint(lastval)"
     ],
     "language": "python",
     "metadata": {},
     "outputs": [
      {
       "output_type": "stream",
       "stream": "stdout",
       "text": [
        "key ('A030', 'R083', '01-06-00', '23 ST-5 AVE')\n",
        "value\n",
        "[[datetime.datetime(2015, 1, 3, 3, 0), 5585420],\n",
        " [datetime.datetime(2015, 1, 3, 7, 0), 5585431],\n",
        " [datetime.datetime(2015, 1, 3, 11, 0), 5585499],\n",
        " [datetime.datetime(2015, 1, 3, 15, 0), 5585731],\n",
        " [datetime.datetime(2015, 1, 3, 19, 0), 5586046],\n",
        " [datetime.datetime(2015, 1, 3, 23, 0), 5586227],\n",
        " [datetime.datetime(2015, 1, 4, 3, 0), 5586298],\n",
        " [datetime.datetime(2015, 1, 4, 7, 0), 5586304],\n",
        " [datetime.datetime(2015, 1, 4, 11, 0), 5586347],\n",
        " [datetime.datetime(2015, 1, 4, 15, 0), 5586534],\n",
        " [datetime.datetime(2015, 1, 4, 19, 0), 5586770],\n",
        " [datetime.datetime(2015, 1, 4, 23, 0), 5586912],\n",
        " [datetime.datetime(2015, 1, 5, 3, 0), 5586935],\n",
        " [datetime.datetime(2015, 1, 5, 7, 0), 5586960],\n",
        " [datetime.datetime(2015, 1, 5, 11, 0), 5587389],\n",
        " [datetime.datetime(2015, 1, 5, 15, 0), 5587709],\n",
        " [datetime.datetime(2015, 1, 5, 19, 0), 5588788],\n",
        " [datetime.datetime(2015, 1, 5, 23, 0), 5589233],\n",
        " [datetime.datetime(2015, 1, 6, 3, 0), 5589312],\n",
        " [datetime.datetime(2015, 1, 6, 7, 0), 5589334],\n",
        " [datetime.datetime(2015, 1, 6, 11, 0), 5589868],\n",
        " [datetime.datetime(2015, 1, 6, 15, 0), 5590260],\n",
        " [datetime.datetime(2015, 1, 6, 19, 0), 5591345],\n",
        " [datetime.datetime(2015, 1, 6, 23, 0), 5591856],\n",
        " [datetime.datetime(2015, 1, 7, 3, 0), 5591928],\n",
        " [datetime.datetime(2015, 1, 7, 7, 0), 5591951],\n",
        " [datetime.datetime(2015, 1, 7, 11, 0), 5592472],\n",
        " [datetime.datetime(2015, 1, 7, 15, 0), 5592873],\n",
        " [datetime.datetime(2015, 1, 7, 19, 0), 5593932],\n",
        " [datetime.datetime(2015, 1, 7, 23, 0), 5594650],\n",
        " [datetime.datetime(2015, 1, 8, 3, 0), 5594766],\n",
        " [datetime.datetime(2015, 1, 8, 7, 0), 5594803],\n",
        " [datetime.datetime(2015, 1, 8, 11, 0), 5595612],\n",
        " [datetime.datetime(2015, 1, 8, 15, 0), 5596089],\n",
        " [datetime.datetime(2015, 1, 8, 19, 0), 5597788],\n",
        " [datetime.datetime(2015, 1, 8, 23, 0), 5598604],\n",
        " [datetime.datetime(2015, 1, 9, 3, 0), 5598731],\n",
        " [datetime.datetime(2015, 1, 9, 7, 0), 5598763],\n",
        " [datetime.datetime(2015, 1, 9, 11, 0), 5599548],\n",
        " [datetime.datetime(2015, 1, 9, 15, 0), 5599964],\n",
        " [datetime.datetime(2015, 1, 9, 19, 0), 5600957],\n",
        " [datetime.datetime(2015, 1, 9, 23, 0), 5601414]]\n"
       ]
      }
     ],
     "prompt_number": 9
    },
    {
     "cell_type": "heading",
     "level": 1,
     "metadata": {},
     "source": [
      "Challenge 3"
     ]
    },
    {
     "cell_type": "code",
     "collapsed": false,
     "input": [
      "## how next() works!!!!!!\n",
      "\n",
      "myList = [10, 20, 30]    # does NOT work for odd # of items\n",
      "print myList, type(myList)\n",
      "\n",
      "# must make iterable!!!!!!\n",
      "iterable_myList = iter(myList)\n",
      "\n",
      "for i in iterable_myList:\n",
      "    print 'i', i\n",
      "    value = iterable_myList.next()\n",
      "    print value"
     ],
     "language": "python",
     "metadata": {},
     "outputs": [
      {
       "output_type": "stream",
       "stream": "stdout",
       "text": [
        "[10, 20, 30] <type 'list'>\n",
        "i 10\n",
        "20\n",
        "i 30\n"
       ]
      },
      {
       "ename": "StopIteration",
       "evalue": "",
       "output_type": "pyerr",
       "traceback": [
        "\u001b[0;31m---------------------------------------------------------------------------\u001b[0m\n\u001b[0;31mStopIteration\u001b[0m                             Traceback (most recent call last)",
        "\u001b[0;32m<ipython-input-11-16bd4e0c66f7>\u001b[0m in \u001b[0;36m<module>\u001b[0;34m()\u001b[0m\n\u001b[1;32m      9\u001b[0m \u001b[0;32mfor\u001b[0m \u001b[0mi\u001b[0m \u001b[0;32min\u001b[0m \u001b[0miterable_myList\u001b[0m\u001b[0;34m:\u001b[0m\u001b[0;34m\u001b[0m\u001b[0m\n\u001b[1;32m     10\u001b[0m     \u001b[0;32mprint\u001b[0m \u001b[0;34m'i'\u001b[0m\u001b[0;34m,\u001b[0m \u001b[0mi\u001b[0m\u001b[0;34m\u001b[0m\u001b[0m\n\u001b[0;32m---> 11\u001b[0;31m     \u001b[0mvalue\u001b[0m \u001b[0;34m=\u001b[0m \u001b[0miterable_myList\u001b[0m\u001b[0;34m.\u001b[0m\u001b[0mnext\u001b[0m\u001b[0;34m(\u001b[0m\u001b[0;34m)\u001b[0m\u001b[0;34m\u001b[0m\u001b[0m\n\u001b[0m\u001b[1;32m     12\u001b[0m     \u001b[0;32mprint\u001b[0m \u001b[0mvalue\u001b[0m\u001b[0;34m\u001b[0m\u001b[0m\n",
        "\u001b[0;31mStopIteration\u001b[0m: "
       ]
      }
     ],
     "prompt_number": 11
    },
    {
     "cell_type": "code",
     "collapsed": false,
     "input": [
      "# convert list of int into int\n",
      "def int_list_to_int_diff(lst):\n",
      "    # lst: a list of integers\n",
      "    diff = max(lst) - min(lst)\n",
      "    pos_diff = lst[-1] - lst[0]\n",
      "    \n",
      "#     print 'max', max(lst)\n",
      "#     print 'min', min(lst)\n",
      "    \n",
      "    return diff\n",
      "    # handle irregular data\n",
      "#     if diff != pos_diff:\n",
      "#         return np.nan\n",
      "#     else:\n",
      "#         return diff"
     ],
     "language": "python",
     "metadata": {},
     "outputs": [],
     "prompt_number": 12
    },
    {
     "cell_type": "code",
     "collapsed": false,
     "input": [
      "# convert list of integers into int when nested in another list\n",
      "def nested_int_list_to_int_diff(nested_lst):\n",
      "    # nested_lst: list nested in index 1 of list; convert to lst\n",
      "    # lst: a list of integers\n",
      "    holder = nested_lst[0]\n",
      "    lst = nested_lst[1]\n",
      "    \n",
      "#     print 'max', max(lst)\n",
      "#     print 'min', min(lst)\n",
      "    \n",
      "    diff = int_list_to_int_diff(lst)\n",
      "    \n",
      "    return [holder, diff]"
     ],
     "language": "python",
     "metadata": {},
     "outputs": [],
     "prompt_number": 13
    },
    {
     "cell_type": "code",
     "collapsed": false,
     "input": [
      "# convert list of integers into int when nested in another list\n",
      "def lst_of_nested_lst_to_int(lst_of_nested_lst):\n",
      "    # lst_of_nested_lst: list nested in index 1 of list; convert to lst\n",
      "    # lst: a list of integers\n",
      "\n",
      "    output_lst =[]\n",
      "    for nested_lst in lst_of_nested_lst:\n",
      "        output_lst.append(nested_int_list_to_int_diff(nested_lst))\n",
      "    \n",
      "    return output_lst"
     ],
     "language": "python",
     "metadata": {},
     "outputs": [],
     "prompt_number": 14
    },
    {
     "cell_type": "code",
     "collapsed": false,
     "input": [
      "# collapse data to find total entry counts for turnstile by date\n",
      "\n",
      "def turnstile_count_by_day(timeseries):\n",
      "    \"\"\"\n",
      "    timeseries: \n",
      "        dictionary{turnstile_key: [[datetime, count],[datetime, count]...[datetime, count]], ...\n",
      "                            }\n",
      "    returns:\n",
      "        new_dict{turnstile_key: [date, total_day_count][date, total_day_count]...[date, total_day_count], ...\n",
      "                    }\n",
      "    \"\"\"\n",
      "    import math\n",
      "    import itertools\n",
      "    import pprint\n",
      "    \n",
      "    new_dict = {}\n",
      "    for k, v in timeseries.iteritems():\n",
      "        sorted_by_date = sorted(v) # sort to loop thru by datetime\n",
      "#         print '\\n----------------------------NEW KEY-------------------------'\n",
      "        pp = pprint.PrettyPrinter(indent=4)\n",
      "#         pp.pprint(sorted_by_date)\n",
      "        one_day_entries = []\n",
      "        date_and_entries = []\n",
      "        list_of_dates_and_entries = []\n",
      "        list_of_dates_and_total_entries = []\n",
      "        \n",
      "        for key, item in itertools.groupby(sorted_by_date):\n",
      "            just_date = key[0].date()            \n",
      "            if just_date not in date_and_entries:\n",
      "#                 print \"\\nnew date!\"\n",
      "                one_day_entries = []\n",
      "                date_and_entries = [just_date, one_day_entries]\n",
      "\n",
      "                if date_and_entries not in list_of_dates_and_entries:\n",
      "                    list_of_dates_and_entries.append(date_and_entries)\n",
      "#                     print 'list of date'\n",
      "#                     pp.pprint (list_of_dates_and_entries)\n",
      "            one_day_entries += [key[1]]\n",
      "#             print 'one day\\n', one_day_entries\n",
      "#             print 'date & entries\\n',date_and_entries\n",
      "        \n",
      "#         print '\\n==============List of dates and total day counts================'\n",
      "#         pp.pprint (list_of_dates_and_entries)\n",
      "  \n",
      "\n",
      "        list_of_dates_and_total_entries = lst_of_nested_lst_to_int(list_of_dates_and_entries)\n",
      "        new_dict[k] = list_of_dates_and_total_entries\n",
      "        \n",
      "#     pp.pprint(new_dict)\n",
      "\n",
      "    return new_dict"
     ],
     "language": "python",
     "metadata": {},
     "outputs": [],
     "prompt_number": 15
    },
    {
     "cell_type": "code",
     "collapsed": false,
     "input": [
      "turnstile_total_by_day = turnstile_count_by_day(turnstile_timeseries)"
     ],
     "language": "python",
     "metadata": {},
     "outputs": [],
     "prompt_number": 16
    },
    {
     "cell_type": "code",
     "collapsed": false,
     "input": [
      "key, value = turnstile_total_by_day.items()[0]\n",
      "key2, value2 = turnstile_total_by_day.items()[1]\n",
      "key3, value3 = turnstile_total_by_day.items()[2]\n",
      "key4, value4 = turnstile_total_by_day.items()[3]\n",
      "lastkey, lastval = turnstile_total_by_day.items()[-1]\n",
      "\n",
      "import pprint as pp\n",
      "\n",
      "print 'key', key\n",
      "print 'value'\n",
      "pp.pprint(value)\n",
      "# print '\\nkey2', key2\n",
      "# print 'value2', value2\n",
      "# print '\\nkey3', key3\n",
      "# print 'value3', value3\n",
      "# print '\\nkey4', key4\n",
      "# print 'value4', value4\n",
      "print '\\nlaat key', lastkey\n",
      "print 'last val'\n",
      "pp.pprint(lastval)"
     ],
     "language": "python",
     "metadata": {},
     "outputs": [
      {
       "output_type": "stream",
       "stream": "stdout",
       "text": [
        "key ('A030', 'R083', '01-06-00', '23 ST-5 AVE')\n",
        "value\n",
        "[[datetime.date(2015, 1, 3), 807],\n",
        " [datetime.date(2015, 1, 4), 614],\n",
        " [datetime.date(2015, 1, 5), 2298],\n",
        " [datetime.date(2015, 1, 6), 2544],\n",
        " [datetime.date(2015, 1, 7), 2722],\n",
        " [datetime.date(2015, 1, 8), 3838],\n",
        " [datetime.date(2015, 1, 9), 2683]]\n",
        "\n",
        "laat key ('R625', 'R062', '01-00-03', 'CROWN HTS-UTICA')\n",
        "last val\n",
        "[[datetime.date(2015, 1, 3), 1125],\n",
        " [datetime.date(2015, 1, 4), 951],\n",
        " [datetime.date(2015, 1, 5), 2166],\n",
        " [datetime.date(2015, 1, 6), 2280],\n",
        " [datetime.date(2015, 1, 7), 2208],\n",
        " [datetime.date(2015, 1, 8), 2090],\n",
        " [datetime.date(2015, 1, 9), 1171]]\n"
       ]
      }
     ],
     "prompt_number": 17
    },
    {
     "cell_type": "heading",
     "level": 1,
     "metadata": {},
     "source": [
      "Challenge 4"
     ]
    },
    {
     "cell_type": "code",
     "collapsed": false,
     "input": [
      "# plot daily time series for a turnstile\n",
      "%matplotlib inline\n",
      "\n",
      "import matplotlib.pyplot as plt"
     ],
     "language": "python",
     "metadata": {},
     "outputs": [],
     "prompt_number": 18
    },
    {
     "cell_type": "code",
     "collapsed": false,
     "input": [
      "# Take the list of [(date1, count1), (date2, count2), ...], \n",
      "# for the turnstile and turn it into two lists: dates and counts. \n",
      "\n",
      "def one_week_one_key(total_by_day, key_type):\n",
      "    import random\n",
      "    # total_by_day: dict for turnstiles value: list of [date, count]\n",
      "    # key_type: string \n",
      "    dates, counts = [], []\n",
      "    \n",
      "    ids = total_by_day.keys()\n",
      "    k = random.choice(ids)\n",
      "    print key_type,' ID:', k\n",
      "    for date, count in total_by_day[k]:\n",
      "        dates.append(date)\n",
      "        counts.append(count) \n",
      "    \n",
      "    return  dates, counts, k"
     ],
     "language": "python",
     "metadata": {},
     "outputs": [],
     "prompt_number": 151
    },
    {
     "cell_type": "code",
     "collapsed": false,
     "input": [
      "dates, counts, k = one_week_one_key(turnstile_total_by_day, 'Turnstile')\n",
      "\n",
      "# print dates\n",
      "# print counts"
     ],
     "language": "python",
     "metadata": {},
     "outputs": [
      {
       "output_type": "stream",
       "stream": "stdout",
       "text": [
        "Turnstile  ID: ('R602', 'R108', '00-06-01', 'BOROUGH HALL/CT')\n"
       ]
      }
     ],
     "prompt_number": 152
    },
    {
     "cell_type": "code",
     "collapsed": false,
     "input": [
      "def plot_one_week_one_key(total_by_day,key):\n",
      "    \n",
      "    %matplotlib inline\n",
      "    import matplotlib.pyplot as plt\n",
      "    \n",
      "    dates, counts, k = one_week_one_key(total_by_day, key)\n",
      "\n",
      "    # This should plot it:\n",
      "    plt.figure(figsize=(10,3))\n",
      "    plt.plot(dates,counts)\n",
      "    plt.title('One Week for One %s'% key)\n",
      "    plt.xlabel('Dates')\n",
      "    plt.ylabel('Total Entries')"
     ],
     "language": "python",
     "metadata": {},
     "outputs": [],
     "prompt_number": 174
    },
    {
     "cell_type": "code",
     "collapsed": false,
     "input": [
      "plot_one_week_one_key(turnstile_total_by_day, 'Turnstile')"
     ],
     "language": "python",
     "metadata": {},
     "outputs": [
      {
       "output_type": "stream",
       "stream": "stdout",
       "text": [
        "Turnstile  ID: ('R258', 'R132', '00-00-02', '125 ST')\n"
       ]
      },
      {
       "metadata": {},
       "output_type": "display_data",
       "png": "[encoded data removed]",
       "text": [
        "<matplotlib.figure.Figure at 0x131a297d0>"
       ]
      }
     ],
     "prompt_number": 175
    },
    {
     "cell_type": "heading",
     "level": 1,
     "metadata": {},
     "source": [
      "Challenge 5"
     ]
    },
    {
     "cell_type": "code",
     "collapsed": false,
     "input": [
      "from itertools import groupby\n",
      "sortkeyfn = key=lambda s:s[1]\n",
      "input = [('11013331', 'KAT'), ('9085267', 'NOT'), ('5238761', 'ETH'), \n",
      " ('5349618', 'ETH'), ('11788544', 'NOT'), ('962142', 'ETH'), ('7795297', 'ETH'), \n",
      " ('7341464', 'ETH'), ('9843236', 'KAT'), ('5594916', 'ETH'), ('1550003', 'ETH')] \n",
      "input.sort(key=sortkeyfn)\n",
      "print 'input', input\n",
      "\n",
      "result = {}\n",
      "for key,valuesiter in groupby(input, key=sortkeyfn):\n",
      "    result[key] = list(v[0] for v in valuesiter)\n",
      "\n",
      "print result"
     ],
     "language": "python",
     "metadata": {},
     "outputs": [
      {
       "output_type": "stream",
       "stream": "stdout",
       "text": [
        "input [('5238761', 'ETH'), ('5349618', 'ETH'), ('962142', 'ETH'), ('7795297', 'ETH'), ('7341464', 'ETH'), ('5594916', 'ETH'), ('1550003', 'ETH'), ('11013331', 'KAT'), ('9843236', 'KAT'), ('9085267', 'NOT'), ('11788544', 'NOT')]\n",
        "{'NOT': ['9085267', '11788544'], 'ETH': ['5238761', '5349618', '962142', '7795297', '7341464', '5594916', '1550003'], 'KAT': ['11013331', '9843236']}\n"
       ]
      }
     ],
     "prompt_number": 176
    },
    {
     "cell_type": "code",
     "collapsed": false,
     "input": [
      "def sum_same_day_counts(turnstile_combo_dict):\n",
      "    import itertools\n",
      "    import pprint\n",
      "    \n",
      "    output_dict = {}\n",
      "    # sum same day counts\n",
      "    # k = turnstile_combo_key, v = list of [date, totals] including duplicate dates\n",
      "    for k,v in turnstile_combo_dict.iteritems():\n",
      "        sorted_by_date = sorted(v)\n",
      "#         pp.pprint( sorted_by_date)\n",
      "        \n",
      "        \n",
      "        #  using groupby - must be sorted first!!!\n",
      "        groups = {}\n",
      "        sortkeyfn = key=lambda s:s[0] # group by date part\n",
      "        \n",
      "        output_dict[k] = []\n",
      "\n",
      "        # key = date; NOTE sortkeyfn altered default\n",
      "        for key, valuesiter in itertools.groupby(sorted_by_date, key=sortkeyfn):\n",
      "            groups[key] = list(v[1] for v in valuesiter) # groups totals for same date\n",
      "            \n",
      "            # add [date, sum of totals] to list for turnstile_combo_key\n",
      "            output_dict[k].append( [key, sum(groups[key])] )\n",
      "    \n",
      "    return output_dict"
     ],
     "language": "python",
     "metadata": {},
     "outputs": [],
     "prompt_number": 177
    },
    {
     "cell_type": "code",
     "collapsed": false,
     "input": [
      "# collapse data to find total entry counts for turnstile combo by date\n",
      "\n",
      "def turnstile_combo_total_by_day(turnstile_total):\n",
      "    \"\"\"\n",
      "    turnstile_total: \n",
      "        dictionary{turnstile_key:[date, day_count][date, day_count]...[date, day_count], ...\n",
      "                    }\n",
      "        turnstile_key: (control_area, unit, scp, station)\n",
      "    return:\n",
      "        dictionary{turnstile_combo_key:[date, total_day_count][date, total_day_count],...\n",
      "                    }\n",
      "        turnstile_combo_key: (control_area, unit, station)\n",
      "    \"\"\"\n",
      "    import math\n",
      "    import itertools\n",
      "    import pprint\n",
      "    \n",
      "    turnstile_combo_key = ()\n",
      "    turnstile_combo_dict = {}\n",
      "    \n",
      "    dates_and_entries_list = []\n",
      "    sorted_by_date = []\n",
      "    \n",
      "    # allows for pretty print of dicitonary\n",
      "    pp = pprint.PrettyPrinter(indent=2)\n",
      "    \n",
      "    \n",
      "    # group (date, count) lists by new key (turnstile_combo)\n",
      "    # k = turnstile_key; v = list of [date, total]\n",
      "    for k, v in turnstile_total.iteritems():\n",
      "#         print 'key', k\n",
      "#         print 'value'\n",
      "#         pp.pprint(v)\n",
      "        turnstile_combo_key = (k[0], k[1], k[3])\n",
      "#         print '\\n----------------------------NEW KEY-------------------------'\n",
      "#         print turnstile_combo_key\n",
      "        if turnstile_combo_key not in turnstile_combo_dict.keys():\n",
      "            turnstile_combo_dict[turnstile_combo_key] = v\n",
      "#             print '\\n-------------------key added to dict---------------------'\n",
      "#             pp.pprint(turnstile_combo_dict)\n",
      "#             print '\\n-------------------key added to dict END---------------------'\n",
      "        else:\n",
      "            turnstile_combo_dict[turnstile_combo_key] += v\n",
      "        \n",
      "#     pp.pprint(turnstile_combo_dict)\n",
      "#     print '\\n----------------------------sorted dates------------------------'\n",
      "    turnstile_combo_dict = sum_same_day_counts(turnstile_combo_dict)\n",
      "\n",
      "#     print '\\n----------------------------turnstile_combo_dict------------------------'\n",
      "#     pp.pprint(turnstile_combo_dict)\n",
      "    \n",
      "    return turnstile_combo_dict"
     ],
     "language": "python",
     "metadata": {},
     "outputs": [],
     "prompt_number": 178
    },
    {
     "cell_type": "code",
     "collapsed": false,
     "input": [
      "turnstile_combo_totals = turnstile_combo_total_by_day(turnstile_total_by_day)"
     ],
     "language": "python",
     "metadata": {},
     "outputs": [],
     "prompt_number": 179
    },
    {
     "cell_type": "heading",
     "level": 1,
     "metadata": {},
     "source": [
      "Challenge 6"
     ]
    },
    {
     "cell_type": "code",
     "collapsed": false,
     "input": [
      "# Similarly, combine everything in each station, \n",
      "# come up with a time series of [(date1, count1),(date2,count2),...] type \n",
      "# of time series for each STATION, by adding up all the turnstiles in a station."
     ],
     "language": "python",
     "metadata": {},
     "outputs": [],
     "prompt_number": 180
    },
    {
     "cell_type": "code",
     "collapsed": false,
     "input": [
      "turnstile_and_line_data = ts_function('turnstile_150110.txt', 5)"
     ],
     "language": "python",
     "metadata": {},
     "outputs": [],
     "prompt_number": 181
    },
    {
     "cell_type": "code",
     "collapsed": false,
     "input": [
      "key, value = turnstile_and_line_data.items()[0]\n",
      "key2, value2 = turnstile_and_line_data.items()[1]\n",
      "key3, value3 = turnstile_and_line_data.items()[2]\n",
      "key4, value4 = turnstile_and_line_data.items()[3]\n",
      "last_key, last_val = turnstile_and_line_data.items()[-1]\n",
      "\n",
      "import pprint as pp\n",
      "\n",
      "\n",
      "print 'key', key\n",
      "print 'value'\n",
      "pp.pprint(value[:6])\n",
      "# pp.pprint(value)\n",
      "# print '\\nkey2', key2\n",
      "# print 'value2', value2[:6]\n",
      "# print '\\nkey3', key3\n",
      "# print 'value3', value3[:6]\n",
      "# print '\\nkey4', key4\n",
      "# print 'value4', value4[:6]\n",
      "print '\\nlast key', last_key\n",
      "print 'last val'\n",
      "pp.pprint( last_val[:6] )\n",
      "# pp.pprint( last_val)"
     ],
     "language": "python",
     "metadata": {},
     "outputs": [
      {
       "output_type": "stream",
       "stream": "stdout",
       "text": [
        "key ('N549', 'R242', '00-00-01', '18 AVE', 'F')\n",
        "value\n",
        "[['IND',\n",
        "  '01/03/2015',\n",
        "  '03:00:00',\n",
        "  'REGULAR',\n",
        "  '0004793055',\n",
        "  '0004923656                                                 '],\n",
        " ['IND',\n",
        "  '01/03/2015',\n",
        "  '07:00:00',\n",
        "  'REGULAR',\n",
        "  '0004793081',\n",
        "  '0004923668                                                 '],\n",
        " ['IND',\n",
        "  '01/03/2015',\n",
        "  '11:00:00',\n",
        "  'REGULAR',\n",
        "  '0004793206',\n",
        "  '0004923701                                                 '],\n",
        " ['IND',\n",
        "  '01/03/2015',\n",
        "  '15:00:00',\n",
        "  'REGULAR',\n",
        "  '0004793310',\n",
        "  '0004923769                                                 '],\n",
        " ['IND',\n",
        "  '01/03/2015',\n",
        "  '19:00:00',\n",
        "  'REGULAR',\n",
        "  '0004793383',\n",
        "  '0004923883                                                 '],\n",
        " ['IND',\n",
        "  '01/03/2015',\n",
        "  '23:00:00',\n",
        "  'REGULAR',\n",
        "  '0004793437',\n",
        "  '0004923992                                                 ']]\n",
        "\n",
        "last key ('R121', 'R290', '01-06-01', 'HOUSTON ST', '1')\n",
        "last val\n",
        "[['IRT',\n",
        "  '01/03/2015',\n",
        "  '00:00:00',\n",
        "  'REGULAR',\n",
        "  '0008514019',\n",
        "  '0001336762                                             '],\n",
        " ['IRT',\n",
        "  '01/03/2015',\n",
        "  '04:00:00',\n",
        "  'REGULAR',\n",
        "  '0008514081',\n",
        "  '0001336762                                             '],\n",
        " ['IRT',\n",
        "  '01/03/2015',\n",
        "  '08:00:00',\n",
        "  'REGULAR',\n",
        "  '0008514098',\n",
        "  '0001336765                                             '],\n",
        " ['IRT',\n",
        "  '01/03/2015',\n",
        "  '12:00:00',\n",
        "  'REGULAR',\n",
        "  '0008514259',\n",
        "  '0001336772                                             '],\n",
        " ['IRT',\n",
        "  '01/03/2015',\n",
        "  '16:00:00',\n",
        "  'REGULAR',\n",
        "  '0008514534',\n",
        "  '0001336787                                             '],\n",
        " ['IRT',\n",
        "  '01/03/2015',\n",
        "  '20:00:00',\n",
        "  'REGULAR',\n",
        "  '0008514796',\n",
        "  '0001336796                                             ']]\n"
       ]
      }
     ],
     "prompt_number": 182
    },
    {
     "cell_type": "code",
     "collapsed": false,
     "input": [
      "def entries_totals_by_station(turnstile_and_line_data):\n",
      "    \"\"\"\n",
      "    turnstile_and_line_data:\n",
      "        dictionary{turnstile_key:[linename, division, date, time, desc, entries, exits],...\n",
      "                    }\n",
      "        turnstile_key: (control_area, unit, scp, station, line)\n",
      "\n",
      "        \n",
      "    return:\n",
      "        dicitonary{ station_key: [date, total_day_count], [date, total_day_count]...\n",
      "                    }\n",
      "        station_line_key: ( station, linename )\n",
      "    \"\"\"\n",
      "    import math\n",
      "    import itertools\n",
      "    import pprint\n",
      "    \n",
      "    joined_date_time_dict = {}\n",
      "    turnstile_total_day_counts = {}\n",
      "    \n",
      "    # create dict with clean data\n",
      "    # (1) joined datetime; (2) entries as int; (3) returns only relavant data\n",
      "    # (4) makes new dict {turnstile_key: [[datetime, cumulative entries count],\n",
      "    #                                     [datetime, cumulative entries count],\n",
      "    #                                      ....}\n",
      "    joined_date_time_dict = mta_timeseries( turnstile_and_line_data )\n",
      "    \n",
      "    # create dict that collapses data to find total entry count for turnstile by date\n",
      "    # (1) datetime reduced to just_date; \n",
      "    # (2) diff between max and min cumulative count for just_date found\n",
      "    # (3) new dict {turnstile_key: [date, total_day_count],\n",
      "    #                              [date, total_day_count],\n",
      "    #                              ...}\n",
      "    turnstile_total_day_counts = turnstile_count_by_day(joined_date_time_dict)\n",
      "    \n",
      "    \n",
      "    # below code :\n",
      "    # (1) collapses turnstile_key into station_line_key\n",
      "    # (2) new dict for all [date, total_day_count] lists under station_line_key\n",
      "    station_line_key = ()\n",
      "    station_line_dict = {}\n",
      "    output_dict = {}\n",
      "    \n",
      "    dates_and_entries_list = []\n",
      "    sorted_by_date = [] # for groupby list must be sorted\n",
      "    \n",
      "    pp = pprint.PrettyPrinter(indent=2) # allows for pretty print of dictionary\n",
      "    \n",
      "    for k,v in turnstile_total_day_counts.iteritems():\n",
      "        station_line_key = (k[-2], k[-1])\n",
      "#         print station_line_key\n",
      "        \n",
      "        if station_line_key not in station_line_dict.keys():\n",
      "            station_line_dict[station_line_key] = v\n",
      "        else:\n",
      "            station_line_dict[station_line_key] += v\n",
      "    \n",
      "    # for each key in new dict:\n",
      "    # (1) sorts lists of [date, total_day_count]\n",
      "    # (2) groups the list by date; (3) sums total_day_count for same date\n",
      "    # (4) creates new dict of same day counts\n",
      "    station_line_dict = sum_same_day_counts(station_line_dict)\n",
      "\n",
      "    return station_line_dict\n",
      "            "
     ],
     "language": "python",
     "metadata": {},
     "outputs": [],
     "prompt_number": 183
    },
    {
     "cell_type": "code",
     "collapsed": false,
     "input": [
      "day_totals_by_station = entries_totals_by_station(turnstile_and_line_data)"
     ],
     "language": "python",
     "metadata": {},
     "outputs": [],
     "prompt_number": 184
    },
    {
     "cell_type": "code",
     "collapsed": false,
     "input": [
      "key, value = day_totals_by_station.items()[0]\n",
      "key2, value2 = day_totals_by_station.items()[1]\n",
      "# key3, value3 = day_totals_by_station.items()[2]\n",
      "# key4, value4 = day_totals_by_station.items()[3]\n",
      "last_key, last_val = day_totals_by_station.items()[-1]\n",
      "\n",
      "import pprint as pp\n",
      "\n",
      "\n",
      "print 'key', key\n",
      "print 'value'\n",
      "pp.pprint(value)\n",
      "# print '\\nkey2', key2\n",
      "# print 'value2', value2[:6]\n",
      "# print '\\nkey3', key3\n",
      "# print 'value3', value3[:6]\n",
      "# print '\\nkey4', key4\n",
      "# print 'value4', value4[:6]\n",
      "print '\\nlast key', last_key\n",
      "print 'last val'\n",
      "pp.pprint( last_val )"
     ],
     "language": "python",
     "metadata": {},
     "outputs": [
      {
       "output_type": "stream",
       "stream": "stdout",
       "text": [
        "key ('COURT SQ-23 ST', 'EMG')\n",
        "value\n",
        "[[datetime.date(2015, 1, 3), 3148],\n",
        " [datetime.date(2015, 1, 4), 2563],\n",
        " [datetime.date(2015, 1, 5), 8011],\n",
        " [datetime.date(2015, 1, 6), 7926],\n",
        " [datetime.date(2015, 1, 7), 8058],\n",
        " [datetime.date(2015, 1, 8), 8077],\n",
        " [datetime.date(2015, 1, 9), 7680]]\n",
        "\n",
        "last key ('JFK JAMAICA CT1', 'E')\n",
        "last val\n",
        "[[datetime.date(2015, 1, 3), 4498],\n",
        " [datetime.date(2015, 1, 4), 4223],\n",
        " [datetime.date(2015, 1, 5), 4725],\n",
        " [datetime.date(2015, 1, 6), 5889],\n",
        " [datetime.date(2015, 1, 7), 5235],\n",
        " [datetime.date(2015, 1, 8), 5825],\n",
        " [datetime.date(2015, 1, 9), 6457]]\n"
       ]
      }
     ],
     "prompt_number": 185
    },
    {
     "cell_type": "heading",
     "level": 1,
     "metadata": {},
     "source": [
      "Challenge 7"
     ]
    },
    {
     "cell_type": "code",
     "collapsed": false,
     "input": [
      "plot_one_week_one_key(day_totals_by_station, 'Station')"
     ],
     "language": "python",
     "metadata": {},
     "outputs": [
      {
       "output_type": "stream",
       "stream": "stdout",
       "text": [
        "Station  ID: ('ROCKAWAY PK 116', 'AS')\n"
       ]
      },
      {
       "metadata": {},
       "output_type": "display_data",
       "png": "[encoded data removed]",
       "text": [
        "<matplotlib.figure.Figure at 0x10b8cbd10>"
       ]
      }
     ],
     "prompt_number": 186
    },
    {
     "cell_type": "heading",
     "level": 1,
     "metadata": {},
     "source": [
      "Challenge 8"
     ]
    },
    {
     "cell_type": "code",
     "collapsed": false,
     "input": [
      "# Make one list of counts for one week for one station. \n",
      "# Monday's count, Tuesday's count, etc. so it's a list of 7 counts. \n",
      "# Make the same list for another week, and another week, and another week. \n",
      "# plt.plot(week_count_list) for every week_count_list you created this way. \n",
      "# You should get a rainbow plot of weekly commute numbers on top of each other."
     ],
     "language": "python",
     "metadata": {},
     "outputs": [],
     "prompt_number": 187
    },
    {
     "cell_type": "code",
     "collapsed": false,
     "input": [
      "# !head turnstile_150103.txt"
     ],
     "language": "python",
     "metadata": {},
     "outputs": [],
     "prompt_number": 188
    },
    {
     "cell_type": "code",
     "collapsed": false,
     "input": [
      "# collect station data for 4 other weeks for comparison \n",
      "\n",
      "# 2nd week data\n",
      "turnstile_and_line_data_week_2 = ts_function('turnstile_150103.txt', 5)\n",
      "# 3rd week data\n",
      "turnstile_and_line_data_week_3 = ts_function('turnstile_141227.txt', 5)\n",
      "# 4th week data\n",
      "turnstile_and_line_data_week_4 = ts_function('turnstile_141220.txt', 5)\n",
      "# 5th week data\n",
      "turnstile_and_line_data_week_5 = ts_function('turnstile_141213.txt', 5)"
     ],
     "language": "python",
     "metadata": {},
     "outputs": [],
     "prompt_number": 189
    },
    {
     "cell_type": "code",
     "collapsed": false,
     "input": [
      "# clean & translate data into week count lists by stations\n",
      "\n",
      "day_totals_by_station_week_2 = entries_totals_by_station(turnstile_and_line_data_week_2)\n",
      "day_totals_by_station_week_3 = entries_totals_by_station(turnstile_and_line_data_week_3)\n",
      "day_totals_by_station_week_4 = entries_totals_by_station(turnstile_and_line_data_week_4)\n",
      "day_totals_by_station_week_5 = entries_totals_by_station(turnstile_and_line_data_week_5)"
     ],
     "language": "python",
     "metadata": {},
     "outputs": [],
     "prompt_number": 190
    },
    {
     "cell_type": "code",
     "collapsed": false,
     "input": [
      "# plot_one_week_one_key(day_totals_by_station_week_2, 'Station')"
     ],
     "language": "python",
     "metadata": {},
     "outputs": [],
     "prompt_number": 51
    },
    {
     "cell_type": "code",
     "collapsed": false,
     "input": [
      "# defines random station key\n",
      "def random_station_key():\n",
      "    import random\n",
      "    station_key = random.choice(day_totals_by_station.keys())\n",
      "    return station_key"
     ],
     "language": "python",
     "metadata": {},
     "outputs": [],
     "prompt_number": 45
    },
    {
     "cell_type": "code",
     "collapsed": false,
     "input": [
      "# convert to week_count_list for station\n",
      "def convert_to_station_week_count_list(day_totals, station_key):\n",
      "    # day_totals: dict whose key pairs with value: [[date, total_count],[date, total_count]...]\n",
      "    # station_key: key to access dict; (station name, line)\n",
      "    # return: week_count_list; list of int\n",
      "    week_count_list = []\n",
      "#     print 'day_totals[stationkey]', day_totals[station_key][0][1]\n",
      "    for day, date_count in enumerate(day_totals[station_key]):\n",
      "        week_count_list.append(day_totals[station_key][day][1])\n",
      "    \n",
      "    return  week_count_list"
     ],
     "language": "python",
     "metadata": {},
     "outputs": [],
     "prompt_number": 132
    },
    {
     "cell_type": "code",
     "collapsed": false,
     "input": [
      "# populate week_count_lists \n",
      "random_station = random_station_key()\n",
      "print random_station\n",
      "week_count_1 = convert_to_station_week_count_list(day_totals_by_station, random_station)\n",
      "week_count_2 = convert_to_station_week_count_list(day_totals_by_station_week_2, random_station)\n",
      "week_count_3 = convert_to_station_week_count_list(day_totals_by_station_week_3, random_station)\n",
      "week_count_4 = convert_to_station_week_count_list(day_totals_by_station_week_4, random_station)\n",
      "week_count_5 = convert_to_station_week_count_list(day_totals_by_station_week_5, random_station)\n",
      "\n",
      "weeks = ['Week 1', 'Week 2', 'Week 3', 'Week 4', 'Week 5']\n",
      "week_counts = [week_count_1, week_count_2, week_count_3, week_count_4, week_count_5]\n",
      "\n",
      "# populate date list\n",
      "day_of_week_list = ['Monday', 'Tuesday', 'Wednesday', 'Thursday', 'Friday', 'Saturday', 'Sunday']\n",
      "# day_of_week_list = [1,2,3,4,5,6,7]"
     ],
     "language": "python",
     "metadata": {},
     "outputs": [
      {
       "output_type": "stream",
       "stream": "stdout",
       "text": [
        "('FOREST AVE', 'M')\n"
       ]
      }
     ],
     "prompt_number": 143
    },
    {
     "cell_type": "code",
     "collapsed": false,
     "input": [
      "%matplotlib inline\n",
      "import matplotlib.pyplot as plt\n",
      "\n",
      "# This should plot it:\n",
      "plt.figure(figsize=(10,3))\n",
      "plt.gca()\n",
      "\n",
      "plt.plot( week_counts)\n",
      "plt.legend(weeks, loc='best')\n",
      "plt.title('Weekly Total Entries for %s Station Over 5 Weeks' % str(random_station))\n",
      "plt.xlabel('Days of Week')\n",
      "plt.ylabel('Total Entries')"
     ],
     "language": "python",
     "metadata": {},
     "outputs": [
      {
       "metadata": {},
       "output_type": "pyout",
       "prompt_number": 144,
       "text": [
        "<matplotlib.text.Text at 0x130954a50>"
       ]
      },
      {
       "metadata": {},
       "output_type": "display_data",
       "png": "[encoded data removed]",
       "text": [
        "<matplotlib.figure.Figure at 0x130622b10>"
       ]
      }
     ],
     "prompt_number": 144
    },
    {
     "cell_type": "heading",
     "level": 1,
     "metadata": {},
     "source": [
      "Challenge 9"
     ]
    },
    {
     "cell_type": "code",
     "collapsed": false,
     "input": [
      "# Over multiple weeks, sum total ridership for each station \n",
      "# and sort them, so you can find out the stations \n",
      "# with the highest traffic during the time you investigate"
     ],
     "language": "python",
     "metadata": {},
     "outputs": [],
     "prompt_number": 135
    },
    {
     "cell_type": "code",
     "collapsed": false,
     "input": [
      "def total_ridership_for_each_station():"
     ],
     "language": "python",
     "metadata": {},
     "outputs": []
    }
   ],
   "metadata": {}
  }
 ]
}